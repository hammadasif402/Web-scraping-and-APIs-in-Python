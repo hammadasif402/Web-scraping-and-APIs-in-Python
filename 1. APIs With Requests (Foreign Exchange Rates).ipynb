{
 "cells": [
  {
   "cell_type": "markdown",
   "metadata": {},
   "source": [
    "### Pulling data from public apis - get request"
   ]
  },
  {
   "cell_type": "code",
   "execution_count": 1,
   "metadata": {},
   "outputs": [
    {
     "data": {
      "text/plain": [
       "'https://api.exchangeratesapi.io/'"
      ]
     },
     "execution_count": 1,
     "metadata": {},
     "output_type": "execute_result"
    }
   ],
   "source": [
    "# We will use an API containing currency exchange rates as published by the European Central Bank\n",
    "# Documentation at https://exchangeratesapi.io\n",
    "base_url = \"https://api.exchangeratesapi.io/\"\n",
    "base_url"
   ]
  },
  {
   "cell_type": "markdown",
   "metadata": {},
   "source": [
    "### Extracting data on currency exchange rates"
   ]
  },
  {
   "cell_type": "markdown",
   "metadata": {},
   "source": [
    "# Sending get Request"
   ]
  },
  {
   "cell_type": "code",
   "execution_count": 2,
   "metadata": {},
   "outputs": [],
   "source": [
    "# requests provides us with the capabilities of sending an HTTP request to a server\n",
    "import requests"
   ]
  },
  {
   "cell_type": "code",
   "execution_count": 3,
   "metadata": {
    "scrolled": true
   },
   "outputs": [
    {
     "data": {
      "text/plain": [
       "'https://api.exchangeratesapi.io/latest'"
      ]
     },
     "execution_count": 3,
     "metadata": {},
     "output_type": "execute_result"
    }
   ],
   "source": [
    "latest = base_url + \"latest\"\n",
    "latest"
   ]
  },
  {
   "cell_type": "code",
   "execution_count": 4,
   "metadata": {},
   "outputs": [
    {
     "data": {
      "text/plain": [
       "200"
      ]
     },
     "execution_count": 4,
     "metadata": {},
     "output_type": "execute_result"
    }
   ],
   "source": [
    "response = requests.get(latest)\n",
    "# This method returns the response from the server\n",
    "# We store this response in a variable for future processing\n",
    "\n",
    "\n",
    "\n",
    "# Checking the status code of the response\n",
    "response.status_code"
   ]
  },
  {
   "cell_type": "code",
   "execution_count": 5,
   "metadata": {},
   "outputs": [
    {
     "data": {
      "text/plain": [
       "True"
      ]
     },
     "execution_count": 5,
     "metadata": {},
     "output_type": "execute_result"
    }
   ],
   "source": [
    "response.ok"
   ]
  },
  {
   "cell_type": "code",
   "execution_count": 6,
   "metadata": {},
   "outputs": [
    {
     "data": {
      "text/plain": [
       "'{\"rates\":{\"CAD\":1.4814,\"HKD\":9.154,\"ISK\":149.8,\"PHP\":57.132,\"DKK\":7.4361,\"HUF\":363.58,\"CZK\":26.081,\"AUD\":1.5459,\"RON\":4.8878,\"SEK\":10.1905,\"IDR\":16986.7,\"INR\":85.4845,\"BRL\":6.711,\"RUB\":89.5075,\"HRK\":7.574,\"JPY\":129.34,\"THB\":36.654,\"CHF\":1.109,\"SGD\":1.5865,\"PLN\":4.6493,\"BGN\":1.9558,\"TRY\":9.4523,\"CNY\":7.7063,\"NOK\":10.1258,\"NZD\":1.6863,\"ZAR\":17.6845,\"USD\":1.1782,\"MXN\":24.2575,\"ILS\":3.9261,\"GBP\":0.85503,\"KRW\":1332.17,\"MYR\":4.8854},\"base\":\"EUR\",\"date\":\"2021-03-26\"}'"
      ]
     },
     "execution_count": 6,
     "metadata": {},
     "output_type": "execute_result"
    }
   ],
   "source": [
    "# Inspecting the content body of the response (as a regular 'string')\n",
    "response.text"
   ]
  },
  {
   "cell_type": "markdown",
   "metadata": {},
   "source": [
    "### Handling the JSON"
   ]
  },
  {
   "cell_type": "code",
   "execution_count": 7,
   "metadata": {},
   "outputs": [
    {
     "data": {
      "text/plain": [
       "{'rates': {'CAD': 1.4814,\n",
       "  'HKD': 9.154,\n",
       "  'ISK': 149.8,\n",
       "  'PHP': 57.132,\n",
       "  'DKK': 7.4361,\n",
       "  'HUF': 363.58,\n",
       "  'CZK': 26.081,\n",
       "  'AUD': 1.5459,\n",
       "  'RON': 4.8878,\n",
       "  'SEK': 10.1905,\n",
       "  'IDR': 16986.7,\n",
       "  'INR': 85.4845,\n",
       "  'BRL': 6.711,\n",
       "  'RUB': 89.5075,\n",
       "  'HRK': 7.574,\n",
       "  'JPY': 129.34,\n",
       "  'THB': 36.654,\n",
       "  'CHF': 1.109,\n",
       "  'SGD': 1.5865,\n",
       "  'PLN': 4.6493,\n",
       "  'BGN': 1.9558,\n",
       "  'TRY': 9.4523,\n",
       "  'CNY': 7.7063,\n",
       "  'NOK': 10.1258,\n",
       "  'NZD': 1.6863,\n",
       "  'ZAR': 17.6845,\n",
       "  'USD': 1.1782,\n",
       "  'MXN': 24.2575,\n",
       "  'ILS': 3.9261,\n",
       "  'GBP': 0.85503,\n",
       "  'KRW': 1332.17,\n",
       "  'MYR': 4.8854},\n",
       " 'base': 'EUR',\n",
       " 'date': '2021-03-26'}"
      ]
     },
     "execution_count": 7,
     "metadata": {},
     "output_type": "execute_result"
    }
   ],
   "source": [
    "# Requests has in-build method to directly convert the response to JSON format\n",
    "r = response.json()\n",
    "r\n",
    "# In Python, this JSON is stored as a dictionary"
   ]
  },
  {
   "cell_type": "code",
   "execution_count": 8,
   "metadata": {},
   "outputs": [],
   "source": [
    "import json\n",
    "\n",
    "# It has two main methods:\n",
    "# .loads(), which creates a Python dictionary from a JSON format string (just as response.json() does)\n",
    "# .dumps(), which creates a JSON format string out of a Python dictionary"
   ]
  },
  {
   "cell_type": "code",
   "execution_count": 9,
   "metadata": {},
   "outputs": [
    {
     "name": "stdout",
     "output_type": "stream",
     "text": [
      "{\n",
      "    \"rates\": {\n",
      "        \"CAD\": 1.4814,\n",
      "        \"HKD\": 9.154,\n",
      "        \"ISK\": 149.8,\n",
      "        \"PHP\": 57.132,\n",
      "        \"DKK\": 7.4361,\n",
      "        \"HUF\": 363.58,\n",
      "        \"CZK\": 26.081,\n",
      "        \"AUD\": 1.5459,\n",
      "        \"RON\": 4.8878,\n",
      "        \"SEK\": 10.1905,\n",
      "        \"IDR\": 16986.7,\n",
      "        \"INR\": 85.4845,\n",
      "        \"BRL\": 6.711,\n",
      "        \"RUB\": 89.5075,\n",
      "        \"HRK\": 7.574,\n",
      "        \"JPY\": 129.34,\n",
      "        \"THB\": 36.654,\n",
      "        \"CHF\": 1.109,\n",
      "        \"SGD\": 1.5865,\n",
      "        \"PLN\": 4.6493,\n",
      "        \"BGN\": 1.9558,\n",
      "        \"TRY\": 9.4523,\n",
      "        \"CNY\": 7.7063,\n",
      "        \"NOK\": 10.1258,\n",
      "        \"NZD\": 1.6863,\n",
      "        \"ZAR\": 17.6845,\n",
      "        \"USD\": 1.1782,\n",
      "        \"MXN\": 24.2575,\n",
      "        \"ILS\": 3.9261,\n",
      "        \"GBP\": 0.85503,\n",
      "        \"KRW\": 1332.17,\n",
      "        \"MYR\": 4.8854\n",
      "    },\n",
      "    \"base\": \"EUR\",\n",
      "    \"date\": \"2021-03-26\"\n",
      "}\n"
     ]
    }
   ],
   "source": [
    "# .dumps() has options to make the string 'prettier', more readable\n",
    "# We can choose the number of spaces to be used as indentation\n",
    "print(json.dumps(r, indent = 4))"
   ]
  },
  {
   "cell_type": "code",
   "execution_count": 10,
   "metadata": {},
   "outputs": [
    {
     "data": {
      "text/plain": [
       "dict_keys(['rates', 'base', 'date'])"
      ]
     },
     "execution_count": 10,
     "metadata": {},
     "output_type": "execute_result"
    }
   ],
   "source": [
    "# It contains 3 keys; the value for the 'rates' key is another dictionary\n",
    "r.keys()"
   ]
  },
  {
   "cell_type": "code",
   "execution_count": 11,
   "metadata": {},
   "outputs": [
    {
     "data": {
      "text/plain": [
       "'EUR'"
      ]
     },
     "execution_count": 11,
     "metadata": {},
     "output_type": "execute_result"
    }
   ],
   "source": [
    "r[\"base\"]"
   ]
  },
  {
   "cell_type": "code",
   "execution_count": 12,
   "metadata": {},
   "outputs": [
    {
     "data": {
      "text/plain": [
       "'2021-03-26'"
      ]
     },
     "execution_count": 12,
     "metadata": {},
     "output_type": "execute_result"
    }
   ],
   "source": [
    "r[\"date\"]"
   ]
  },
  {
   "cell_type": "markdown",
   "metadata": {},
   "source": [
    "### Obtaining historical exchange rates"
   ]
  },
  {
   "cell_type": "code",
   "execution_count": 13,
   "metadata": {},
   "outputs": [],
   "source": [
    "# We can also ask for the exhange rates at a particular day in the past with '/DATE', where DATE is in the format YYYY-MM-DD\n",
    "hist = base_url + \"2020-11-15\"\n",
    "# Making the GET request\n",
    "r = requests.get(hist)"
   ]
  },
  {
   "cell_type": "code",
   "execution_count": 14,
   "metadata": {},
   "outputs": [
    {
     "name": "stdout",
     "output_type": "stream",
     "text": [
      "{\n",
      "    \"rates\": {\n",
      "        \"CAD\": 1.5528,\n",
      "        \"HKD\": 9.1608,\n",
      "        \"ISK\": 161.9,\n",
      "        \"PHP\": 56.954,\n",
      "        \"DKK\": 7.4468,\n",
      "        \"HUF\": 355.71,\n",
      "        \"CZK\": 26.461,\n",
      "        \"AUD\": 1.63,\n",
      "        \"RON\": 4.8698,\n",
      "        \"SEK\": 10.2537,\n",
      "        \"IDR\": 16741.86,\n",
      "        \"INR\": 88.186,\n",
      "        \"BRL\": 6.4508,\n",
      "        \"RUB\": 91.6113,\n",
      "        \"HRK\": 7.572,\n",
      "        \"JPY\": 123.88,\n",
      "        \"THB\": 35.646,\n",
      "        \"CHF\": 1.0805,\n",
      "        \"SGD\": 1.5934,\n",
      "        \"PLN\": 4.4888,\n",
      "        \"BGN\": 1.9558,\n",
      "        \"TRY\": 9.1303,\n",
      "        \"CNY\": 7.8071,\n",
      "        \"NOK\": 10.8123,\n",
      "        \"NZD\": 1.7304,\n",
      "        \"ZAR\": 18.4068,\n",
      "        \"USD\": 1.1815,\n",
      "        \"MXN\": 24.2239,\n",
      "        \"ILS\": 3.979,\n",
      "        \"GBP\": 0.89683,\n",
      "        \"KRW\": 1311.84,\n",
      "        \"MYR\": 4.8707\n",
      "    },\n",
      "    \"base\": \"EUR\",\n",
      "    \"date\": \"2020-11-13\"\n",
      "}\n"
     ]
    }
   ],
   "source": [
    "print(json.dumps(r.json(), indent = 4))"
   ]
  },
  {
   "cell_type": "code",
   "execution_count": 15,
   "metadata": {},
   "outputs": [
    {
     "data": {
      "text/plain": [
       "'https://api.exchangeratesapi.io/2020-11-15?base=USD'"
      ]
     },
     "execution_count": 15,
     "metadata": {},
     "output_type": "execute_result"
    }
   ],
   "source": [
    "param_url = hist + \"?base=USD\"\n",
    "param_url"
   ]
  },
  {
   "cell_type": "code",
   "execution_count": 16,
   "metadata": {},
   "outputs": [
    {
     "data": {
      "text/plain": [
       "<Response [200]>"
      ]
     },
     "execution_count": 16,
     "metadata": {},
     "output_type": "execute_result"
    }
   ],
   "source": [
    "r = requests.get(param_url)\n",
    "r"
   ]
  },
  {
   "cell_type": "code",
   "execution_count": 17,
   "metadata": {
    "scrolled": true
   },
   "outputs": [
    {
     "name": "stdout",
     "output_type": "stream",
     "text": [
      "{\n",
      "    \"rates\": {\n",
      "        \"CAD\": 1.314261532,\n",
      "        \"HKD\": 7.7535336437,\n",
      "        \"ISK\": 137.0292001693,\n",
      "        \"PHP\": 48.2048243758,\n",
      "        \"DKK\": 6.3028353788,\n",
      "        \"HUF\": 301.0664409649,\n",
      "        \"CZK\": 22.3961066441,\n",
      "        \"GBP\": 0.7590605163,\n",
      "        \"RON\": 4.1217096911,\n",
      "        \"SEK\": 8.6785442234,\n",
      "        \"IDR\": 14170.0042319086,\n",
      "        \"INR\": 74.6390181972,\n",
      "        \"BRL\": 5.4598391875,\n",
      "        \"RUB\": 77.5381294964,\n",
      "        \"HRK\": 6.4088023699,\n",
      "        \"JPY\": 104.849767245,\n",
      "        \"THB\": 30.1701227253,\n",
      "        \"CHF\": 0.9145154465,\n",
      "        \"EUR\": 0.8463817182,\n",
      "        \"MYR\": 4.1224714346,\n",
      "        \"BGN\": 1.6553533644,\n",
      "        \"TRY\": 7.7277190013,\n",
      "        \"CNY\": 6.6077867118,\n",
      "        \"NOK\": 9.1513330512,\n",
      "        \"NZD\": 1.4645789251,\n",
      "        \"ZAR\": 15.5791790097,\n",
      "        \"USD\": 1.0,\n",
      "        \"MXN\": 20.5026661024,\n",
      "        \"SGD\": 1.3486246297,\n",
      "        \"AUD\": 1.3796022006,\n",
      "        \"ILS\": 3.3677528565,\n",
      "        \"KRW\": 1110.3173931443,\n",
      "        \"PLN\": 3.7992382565\n",
      "    },\n",
      "    \"base\": \"USD\",\n",
      "    \"date\": \"2020-11-13\"\n",
      "}\n"
     ]
    }
   ],
   "source": [
    "print(json.dumps(r.json(), indent = 4))"
   ]
  },
  {
   "cell_type": "code",
   "execution_count": 18,
   "metadata": {},
   "outputs": [
    {
     "data": {
      "text/plain": [
       "'https://api.exchangeratesapi.io/latest?symbols=USD,GBP&base=CAD'"
      ]
     },
     "execution_count": 18,
     "metadata": {},
     "output_type": "execute_result"
    }
   ],
   "source": [
    "param_url = base_url + \"latest?symbols=USD,GBP&base=CAD\"\n",
    "param_url"
   ]
  },
  {
   "cell_type": "code",
   "execution_count": 19,
   "metadata": {},
   "outputs": [
    {
     "data": {
      "text/plain": [
       "<Response [200]>"
      ]
     },
     "execution_count": 19,
     "metadata": {},
     "output_type": "execute_result"
    }
   ],
   "source": [
    "r = requests.get(param_url)\n",
    "r"
   ]
  },
  {
   "cell_type": "code",
   "execution_count": 20,
   "metadata": {},
   "outputs": [
    {
     "name": "stdout",
     "output_type": "stream",
     "text": [
      "{\n",
      "    \"rates\": {\n",
      "        \"USD\": 0.7953287431,\n",
      "        \"GBP\": 0.5771769947\n",
      "    },\n",
      "    \"base\": \"CAD\",\n",
      "    \"date\": \"2021-03-26\"\n",
      "}\n"
     ]
    }
   ],
   "source": [
    "print(json.dumps(r.json(), indent = 4))"
   ]
  },
  {
   "cell_type": "markdown",
   "metadata": {},
   "source": [
    "### Extracting data for a time period"
   ]
  },
  {
   "cell_type": "markdown",
   "metadata": {},
   "source": [
    "The last feautre of this API is: giving the historical exchange rates for every day over some time period"
   ]
  },
  {
   "cell_type": "code",
   "execution_count": 21,
   "metadata": {},
   "outputs": [
    {
     "data": {
      "text/plain": [
       "'https://api.exchangeratesapi.io/history?start_at=2018-01-01&end_at=2018-09-01&base=USD&symbols=CAD'"
      ]
     },
     "execution_count": 21,
     "metadata": {},
     "output_type": "execute_result"
    }
   ],
   "source": [
    "hist = base_url + \"history?start_at=2018-01-01&end_at=2018-09-01&base=USD&symbols=CAD\"\n",
    "hist"
   ]
  },
  {
   "cell_type": "code",
   "execution_count": 22,
   "metadata": {},
   "outputs": [
    {
     "data": {
      "text/plain": [
       "<Response [200]>"
      ]
     },
     "execution_count": 22,
     "metadata": {},
     "output_type": "execute_result"
    }
   ],
   "source": [
    "r = requests.get(hist)\n",
    "r"
   ]
  },
  {
   "cell_type": "code",
   "execution_count": 23,
   "metadata": {},
   "outputs": [
    {
     "name": "stdout",
     "output_type": "stream",
     "text": [
      "{\n",
      "    \"base\": \"USD\",\n",
      "    \"end_at\": \"2018-09-01\",\n",
      "    \"rates\": {\n",
      "        \"2018-01-02\": {\n",
      "            \"CAD\": 1.2538748446\n",
      "        },\n",
      "        \"2018-01-03\": {\n",
      "            \"CAD\": 1.251517924\n",
      "        },\n",
      "        \"2018-01-04\": {\n",
      "            \"CAD\": 1.2527144633\n",
      "        },\n",
      "        \"2018-01-05\": {\n",
      "            \"CAD\": 1.2509755085\n",
      "        },\n",
      "        \"2018-01-08\": {\n",
      "            \"CAD\": 1.2427962917\n",
      "        },\n",
      "        \"2018-01-09\": {\n",
      "            \"CAD\": 1.242541066\n",
      "        },\n",
      "        \"2018-01-10\": {\n",
      "            \"CAD\": 1.2450800534\n",
      "        },\n",
      "        \"2018-01-11\": {\n",
      "            \"CAD\": 1.2559707082\n",
      "        },\n",
      "        \"2018-01-12\": {\n",
      "            \"CAD\": 1.2518744336\n",
      "        },\n",
      "        \"2018-01-15\": {\n",
      "            \"CAD\": 1.2432190274\n",
      "        },\n",
      "        \"2018-01-16\": {\n",
      "            \"CAD\": 1.2423548651\n",
      "        },\n",
      "        \"2018-01-17\": {\n",
      "            \"CAD\": 1.2443661395\n",
      "        },\n",
      "        \"2018-01-18\": {\n",
      "            \"CAD\": 1.2447078055\n",
      "        },\n",
      "        \"2018-01-19\": {\n",
      "            \"CAD\": 1.2440636475\n",
      "        },\n",
      "        \"2018-01-22\": {\n",
      "            \"CAD\": 1.2476509519\n",
      "        },\n",
      "        \"2018-01-23\": {\n",
      "            \"CAD\": 1.2481835252\n",
      "        },\n",
      "        \"2018-01-24\": {\n",
      "            \"CAD\": 1.2329177461\n",
      "        },\n",
      "        \"2018-01-25\": {\n",
      "            \"CAD\": 1.2322882244\n",
      "        },\n",
      "        \"2018-01-26\": {\n",
      "            \"CAD\": 1.2323094243\n",
      "        },\n",
      "        \"2018-01-29\": {\n",
      "            \"CAD\": 1.2334598918\n",
      "        },\n",
      "        \"2018-01-30\": {\n",
      "            \"CAD\": 1.2321069157\n",
      "        },\n",
      "        \"2018-01-31\": {\n",
      "            \"CAD\": 1.2274223328\n",
      "        },\n",
      "        \"2018-02-01\": {\n",
      "            \"CAD\": 1.2318805683\n",
      "        },\n",
      "        \"2018-02-02\": {\n",
      "            \"CAD\": 1.2317483189\n",
      "        },\n",
      "        \"2018-02-05\": {\n",
      "            \"CAD\": 1.2434083601\n",
      "        },\n",
      "        \"2018-02-06\": {\n",
      "            \"CAD\": 1.2562251602\n",
      "        },\n",
      "        \"2018-02-07\": {\n",
      "            \"CAD\": 1.2518236343\n",
      "        },\n",
      "        \"2018-02-08\": {\n",
      "            \"CAD\": 1.2571008815\n",
      "        },\n",
      "        \"2018-02-09\": {\n",
      "            \"CAD\": 1.260897906\n",
      "        },\n",
      "        \"2018-02-12\": {\n",
      "            \"CAD\": 1.2580119057\n",
      "        },\n",
      "        \"2018-02-13\": {\n",
      "            \"CAD\": 1.2603583881\n",
      "        },\n",
      "        \"2018-02-14\": {\n",
      "            \"CAD\": 1.2575315841\n",
      "        },\n",
      "        \"2018-02-15\": {\n",
      "            \"CAD\": 1.2490194509\n",
      "        },\n",
      "        \"2018-02-16\": {\n",
      "            \"CAD\": 1.2505616175\n",
      "        },\n",
      "        \"2018-02-19\": {\n",
      "            \"CAD\": 1.2564061241\n",
      "        },\n",
      "        \"2018-02-20\": {\n",
      "            \"CAD\": 1.2603727715\n",
      "        },\n",
      "        \"2018-02-21\": {\n",
      "            \"CAD\": 1.2671377518\n",
      "        },\n",
      "        \"2018-02-22\": {\n",
      "            \"CAD\": 1.2698761812\n",
      "        },\n",
      "        \"2018-02-23\": {\n",
      "            \"CAD\": 1.2695341085\n",
      "        },\n",
      "        \"2018-02-26\": {\n",
      "            \"CAD\": 1.2676136364\n",
      "        },\n",
      "        \"2018-02-27\": {\n",
      "            \"CAD\": 1.2720104057\n",
      "        },\n",
      "        \"2018-02-28\": {\n",
      "            \"CAD\": 1.2778778451\n",
      "        },\n",
      "        \"2018-03-01\": {\n",
      "            \"CAD\": 1.2861720483\n",
      "        },\n",
      "        \"2018-03-02\": {\n",
      "            \"CAD\": 1.2880116959\n",
      "        },\n",
      "        \"2018-03-05\": {\n",
      "            \"CAD\": 1.293085236\n",
      "        },\n",
      "        \"2018-03-06\": {\n",
      "            \"CAD\": 1.2886149384\n",
      "        },\n",
      "        \"2018-03-07\": {\n",
      "            \"CAD\": 1.293065958\n",
      "        },\n",
      "        \"2018-03-08\": {\n",
      "            \"CAD\": 1.2916834393\n",
      "        },\n",
      "        \"2018-03-09\": {\n",
      "            \"CAD\": 1.2893987471\n",
      "        },\n",
      "        \"2018-03-12\": {\n",
      "            \"CAD\": 1.2828808324\n",
      "        },\n",
      "        \"2018-03-13\": {\n",
      "            \"CAD\": 1.283729197\n",
      "        },\n",
      "        \"2018-03-14\": {\n",
      "            \"CAD\": 1.2929905409\n",
      "        },\n",
      "        \"2018-03-15\": {\n",
      "            \"CAD\": 1.298517138\n",
      "        },\n",
      "        \"2018-03-16\": {\n",
      "            \"CAD\": 1.3077798553\n",
      "        },\n",
      "        \"2018-03-19\": {\n",
      "            \"CAD\": 1.3083922333\n",
      "        },\n",
      "        \"2018-03-20\": {\n",
      "            \"CAD\": 1.3066145324\n",
      "        },\n",
      "        \"2018-03-21\": {\n",
      "            \"CAD\": 1.2979814423\n",
      "        },\n",
      "        \"2018-03-22\": {\n",
      "            \"CAD\": 1.2901104255\n",
      "        },\n",
      "        \"2018-03-23\": {\n",
      "            \"CAD\": 1.2852745829\n",
      "        },\n",
      "        \"2018-03-26\": {\n",
      "            \"CAD\": 1.2889372331\n",
      "        },\n",
      "        \"2018-03-27\": {\n",
      "            \"CAD\": 1.2887039431\n",
      "        },\n",
      "        \"2018-03-28\": {\n",
      "            \"CAD\": 1.2884336183\n",
      "        },\n",
      "        \"2018-03-29\": {\n",
      "            \"CAD\": 1.2900738576\n",
      "        },\n",
      "        \"2018-04-03\": {\n",
      "            \"CAD\": 1.2851803705\n",
      "        },\n",
      "        \"2018-04-04\": {\n",
      "            \"CAD\": 1.2834799609\n",
      "        },\n",
      "        \"2018-04-05\": {\n",
      "            \"CAD\": 1.2772430669\n",
      "        },\n",
      "        \"2018-04-06\": {\n",
      "            \"CAD\": 1.2792218408\n",
      "        },\n",
      "        \"2018-04-09\": {\n",
      "            \"CAD\": 1.2781209363\n",
      "        },\n",
      "        \"2018-04-10\": {\n",
      "            \"CAD\": 1.2656742982\n",
      "        },\n",
      "        \"2018-04-11\": {\n",
      "            \"CAD\": 1.2617086563\n",
      "        },\n",
      "        \"2018-04-12\": {\n",
      "            \"CAD\": 1.2591901323\n",
      "        },\n",
      "        \"2018-04-13\": {\n",
      "            \"CAD\": 1.2569619225\n",
      "        },\n",
      "        \"2018-04-16\": {\n",
      "            \"CAD\": 1.2607922393\n",
      "        },\n",
      "        \"2018-04-17\": {\n",
      "            \"CAD\": 1.255239945\n",
      "        },\n",
      "        \"2018-04-18\": {\n",
      "            \"CAD\": 1.2570229254\n",
      "        },\n",
      "        \"2018-04-19\": {\n",
      "            \"CAD\": 1.260377968\n",
      "        },\n",
      "        \"2018-04-20\": {\n",
      "            \"CAD\": 1.2638719636\n",
      "        },\n",
      "        \"2018-04-23\": {\n",
      "            \"CAD\": 1.2787220134\n",
      "        },\n",
      "        \"2018-04-24\": {\n",
      "            \"CAD\": 1.2824039957\n",
      "        },\n",
      "        \"2018-04-25\": {\n",
      "            \"CAD\": 1.2887977021\n",
      "        },\n",
      "        \"2018-04-26\": {\n",
      "            \"CAD\": 1.283530572\n",
      "        },\n",
      "        \"2018-04-27\": {\n",
      "            \"CAD\": 1.2882352941\n",
      "        },\n",
      "        \"2018-04-30\": {\n",
      "            \"CAD\": 1.2866959185\n",
      "        },\n",
      "        \"2018-05-02\": {\n",
      "            \"CAD\": 1.2826684434\n",
      "        },\n",
      "        \"2018-05-03\": {\n",
      "            \"CAD\": 1.2845230153\n",
      "        },\n",
      "        \"2018-05-04\": {\n",
      "            \"CAD\": 1.2874926894\n",
      "        },\n",
      "        \"2018-05-07\": {\n",
      "            \"CAD\": 1.2886909763\n",
      "        },\n",
      "        \"2018-05-08\": {\n",
      "            \"CAD\": 1.2972198821\n",
      "        },\n",
      "        \"2018-05-09\": {\n",
      "            \"CAD\": 1.2879030221\n",
      "        },\n",
      "        \"2018-05-10\": {\n",
      "            \"CAD\": 1.277319414\n",
      "        },\n",
      "        \"2018-05-11\": {\n",
      "            \"CAD\": 1.2734204793\n",
      "        },\n",
      "        \"2018-05-14\": {\n",
      "            \"CAD\": 1.276359693\n",
      "        },\n",
      "        \"2018-05-15\": {\n",
      "            \"CAD\": 1.2835984179\n",
      "        },\n",
      "        \"2018-05-16\": {\n",
      "            \"CAD\": 1.286575017\n",
      "        },\n",
      "        \"2018-05-17\": {\n",
      "            \"CAD\": 1.2771706904\n",
      "        },\n",
      "        \"2018-05-18\": {\n",
      "            \"CAD\": 1.2795178678\n",
      "        },\n",
      "        \"2018-05-21\": {\n",
      "            \"CAD\": 1.2874394081\n",
      "        },\n",
      "        \"2018-05-22\": {\n",
      "            \"CAD\": 1.2774292013\n",
      "        },\n",
      "        \"2018-05-23\": {\n",
      "            \"CAD\": 1.2904851384\n",
      "        },\n",
      "        \"2018-05-24\": {\n",
      "            \"CAD\": 1.2884549795\n",
      "        },\n",
      "        \"2018-05-25\": {\n",
      "            \"CAD\": 1.2955888651\n",
      "        },\n",
      "        \"2018-05-28\": {\n",
      "            \"CAD\": 1.2980075575\n",
      "        },\n",
      "        \"2018-05-29\": {\n",
      "            \"CAD\": 1.3028205572\n",
      "        },\n",
      "        \"2018-05-30\": {\n",
      "            \"CAD\": 1.2975412655\n",
      "        },\n",
      "        \"2018-05-31\": {\n",
      "            \"CAD\": 1.2854090093\n",
      "        },\n",
      "        \"2018-06-01\": {\n",
      "            \"CAD\": 1.297626189\n",
      "        },\n",
      "        \"2018-06-04\": {\n",
      "            \"CAD\": 1.2906194087\n",
      "        },\n",
      "        \"2018-06-05\": {\n",
      "            \"CAD\": 1.2983297645\n",
      "        },\n",
      "        \"2018-06-06\": {\n",
      "            \"CAD\": 1.2877178071\n",
      "        },\n",
      "        \"2018-06-07\": {\n",
      "            \"CAD\": 1.2937647854\n",
      "        },\n",
      "        \"2018-06-08\": {\n",
      "            \"CAD\": 1.29947252\n",
      "        },\n",
      "        \"2018-06-11\": {\n",
      "            \"CAD\": 1.3017811705\n",
      "        },\n",
      "        \"2018-06-12\": {\n",
      "            \"CAD\": 1.3008992195\n",
      "        },\n",
      "        \"2018-06-13\": {\n",
      "            \"CAD\": 1.301683101\n",
      "        },\n",
      "        \"2018-06-14\": {\n",
      "            \"CAD\": 1.2976982097\n",
      "        },\n",
      "        \"2018-06-15\": {\n",
      "            \"CAD\": 1.3127802691\n",
      "        },\n",
      "        \"2018-06-18\": {\n",
      "            \"CAD\": 1.3180917937\n",
      "        },\n",
      "        \"2018-06-19\": {\n",
      "            \"CAD\": 1.328160222\n",
      "        },\n",
      "        \"2018-06-20\": {\n",
      "            \"CAD\": 1.3299360857\n",
      "        },\n",
      "        \"2018-06-21\": {\n",
      "            \"CAD\": 1.3330733229\n",
      "        },\n",
      "        \"2018-06-22\": {\n",
      "            \"CAD\": 1.3271806319\n",
      "        },\n",
      "        \"2018-06-25\": {\n",
      "            \"CAD\": 1.3283760684\n",
      "        },\n",
      "        \"2018-06-26\": {\n",
      "            \"CAD\": 1.33216244\n",
      "        },\n",
      "        \"2018-06-27\": {\n",
      "            \"CAD\": 1.3294593664\n",
      "        },\n",
      "        \"2018-06-28\": {\n",
      "            \"CAD\": 1.329361996\n",
      "        },\n",
      "        \"2018-06-29\": {\n",
      "            \"CAD\": 1.3245839767\n",
      "        },\n",
      "        \"2018-07-02\": {\n",
      "            \"CAD\": 1.3181544806\n",
      "        },\n",
      "        \"2018-07-03\": {\n",
      "            \"CAD\": 1.3153879126\n",
      "        },\n",
      "        \"2018-07-04\": {\n",
      "            \"CAD\": 1.3147225563\n",
      "        },\n",
      "        \"2018-07-05\": {\n",
      "            \"CAD\": 1.3130070886\n",
      "        },\n",
      "        \"2018-07-06\": {\n",
      "            \"CAD\": 1.3132889799\n",
      "        },\n",
      "        \"2018-07-09\": {\n",
      "            \"CAD\": 1.3075748579\n",
      "        },\n",
      "        \"2018-07-10\": {\n",
      "            \"CAD\": 1.3132416973\n",
      "        },\n",
      "        \"2018-07-11\": {\n",
      "            \"CAD\": 1.3141031104\n",
      "        },\n",
      "        \"2018-07-12\": {\n",
      "            \"CAD\": 1.3183221822\n",
      "        },\n",
      "        \"2018-07-13\": {\n",
      "            \"CAD\": 1.3190758396\n",
      "        },\n",
      "        \"2018-07-16\": {\n",
      "            \"CAD\": 1.3139078498\n",
      "        },\n",
      "        \"2018-07-17\": {\n",
      "            \"CAD\": 1.3157085504\n",
      "        },\n",
      "        \"2018-07-18\": {\n",
      "            \"CAD\": 1.3253811041\n",
      "        },\n",
      "        \"2018-07-19\": {\n",
      "            \"CAD\": 1.3247324819\n",
      "        },\n",
      "        \"2018-07-20\": {\n",
      "            \"CAD\": 1.3233076264\n",
      "        },\n",
      "        \"2018-07-23\": {\n",
      "            \"CAD\": 1.3133321953\n",
      "        },\n",
      "        \"2018-07-24\": {\n",
      "            \"CAD\": 1.3149666838\n",
      "        },\n",
      "        \"2018-07-25\": {\n",
      "            \"CAD\": 1.3123182207\n",
      "        },\n",
      "        \"2018-07-26\": {\n",
      "            \"CAD\": 1.304796859\n",
      "        },\n",
      "        \"2018-07-27\": {\n",
      "            \"CAD\": 1.3069247312\n",
      "        },\n",
      "        \"2018-07-30\": {\n",
      "            \"CAD\": 1.3047757617\n",
      "        },\n",
      "        \"2018-07-31\": {\n",
      "            \"CAD\": 1.3035105658\n",
      "        },\n",
      "        \"2018-08-01\": {\n",
      "            \"CAD\": 1.3022400821\n",
      "        },\n",
      "        \"2018-08-02\": {\n",
      "            \"CAD\": 1.3036067832\n",
      "        },\n",
      "        \"2018-08-03\": {\n",
      "            \"CAD\": 1.3017777011\n",
      "        },\n",
      "        \"2018-08-06\": {\n",
      "            \"CAD\": 1.3022611106\n",
      "        },\n",
      "        \"2018-08-07\": {\n",
      "            \"CAD\": 1.2969315635\n",
      "        },\n",
      "        \"2018-08-08\": {\n",
      "            \"CAD\": 1.307964449\n",
      "        },\n",
      "        \"2018-08-09\": {\n",
      "            \"CAD\": 1.3034589839\n",
      "        },\n",
      "        \"2018-08-10\": {\n",
      "            \"CAD\": 1.3095321229\n",
      "        },\n",
      "        \"2018-08-13\": {\n",
      "            \"CAD\": 1.3150925195\n",
      "        },\n",
      "        \"2018-08-14\": {\n",
      "            \"CAD\": 1.3071190601\n",
      "        },\n",
      "        \"2018-08-15\": {\n",
      "            \"CAD\": 1.3102199452\n",
      "        },\n",
      "        \"2018-08-16\": {\n",
      "            \"CAD\": 1.3141600704\n",
      "        },\n",
      "        \"2018-08-17\": {\n",
      "            \"CAD\": 1.3147221491\n",
      "        },\n",
      "        \"2018-08-20\": {\n",
      "            \"CAD\": 1.3070928196\n",
      "        },\n",
      "        \"2018-08-21\": {\n",
      "            \"CAD\": 1.3022083116\n",
      "        },\n",
      "        \"2018-08-22\": {\n",
      "            \"CAD\": 1.3021694215\n",
      "        },\n",
      "        \"2018-08-23\": {\n",
      "            \"CAD\": 1.3031349858\n",
      "        },\n",
      "        \"2018-08-24\": {\n",
      "            \"CAD\": 1.3067828788\n",
      "        },\n",
      "        \"2018-08-27\": {\n",
      "            \"CAD\": 1.3050803748\n",
      "        },\n",
      "        \"2018-08-28\": {\n",
      "            \"CAD\": 1.2918872758\n",
      "        },\n",
      "        \"2018-08-29\": {\n",
      "            \"CAD\": 1.2944253859\n",
      "        },\n",
      "        \"2018-08-30\": {\n",
      "            \"CAD\": 1.2929353404\n",
      "        },\n",
      "        \"2018-08-31\": {\n",
      "            \"CAD\": 1.3039224101\n",
      "        }\n",
      "    },\n",
      "    \"start_at\": \"2018-01-01\"\n",
      "}\n"
     ]
    }
   ],
   "source": [
    "# Pretty printing the JSON\n",
    "# Notice that the dates are in random order.\n",
    "# We can use the 'sort_keys' parameter of the json.dumps() method to order these dates chronologically.\n",
    "print(json.dumps(r.json(), indent = 4, sort_keys = True))"
   ]
  },
  {
   "cell_type": "markdown",
   "metadata": {},
   "source": [
    "### Creating a simple currency convertor"
   ]
  },
  {
   "cell_type": "code",
   "execution_count": 36,
   "metadata": {},
   "outputs": [],
   "source": [
    "def current_convertor(date,base,curr,quan):\n",
    "    url = \"https://api.exchangeratesapi.io\" + \"/\" + date + \"?base=\" + base + \"&symbols=\" + curr\n",
    "    response = requests.get(url)\n",
    "    \n",
    "    if (response.ok) is False:\n",
    "        print(\"Error {} \".format(response.status_code))\n",
    "        print(response.json()[\"error\"])\n",
    "        \n",
    "    else:\n",
    "        data = response.json()\n",
    "        rate = data[\"rates\"][curr]\n",
    "        result = rate * quan\n",
    "        \n",
    "        return print(\"{0} {1} is equal to {2} {3}, based upon exchange rates on {4}\"\\\n",
    "                     .format(quan, base, result ,curr, data[\"date\"]))"
   ]
  },
  {
   "cell_type": "code",
   "execution_count": 37,
   "metadata": {},
   "outputs": [
    {
     "name": "stdout",
     "output_type": "stream",
     "text": [
      "5 EUR is equal to 7.407 CAD, based upon exchange rates on 2021-03-26\n"
     ]
    }
   ],
   "source": [
    "current_convertor(\"latest\",\"EUR\",\"CAD\",5)"
   ]
  },
  {
   "cell_type": "code",
   "execution_count": 29,
   "metadata": {},
   "outputs": [],
   "source": [
    "url = \"https://api.exchangeratesapi.io\" + \"/\" + \"latest\" + \"?base=\" + \"USD\" + \"&symbols=\" + \"CAD\"\n",
    "response = requests.get(url)"
   ]
  },
  {
   "cell_type": "code",
   "execution_count": 30,
   "metadata": {},
   "outputs": [],
   "source": [
    "data = response.json()\n",
    "rate = data[\"rates\"]"
   ]
  },
  {
   "cell_type": "code",
   "execution_count": 32,
   "metadata": {},
   "outputs": [
    {
     "data": {
      "text/plain": [
       "1.2573417077"
      ]
     },
     "execution_count": 32,
     "metadata": {},
     "output_type": "execute_result"
    }
   ],
   "source": [
    "rate[\"CAD\"]"
   ]
  },
  {
   "cell_type": "code",
   "execution_count": 33,
   "metadata": {},
   "outputs": [
    {
     "data": {
      "text/plain": [
       "{'rates': {'CAD': 1.2573417077}, 'base': 'USD', 'date': '2021-03-26'}"
      ]
     },
     "execution_count": 33,
     "metadata": {},
     "output_type": "execute_result"
    }
   ],
   "source": [
    "data"
   ]
  },
  {
   "cell_type": "code",
   "execution_count": null,
   "metadata": {},
   "outputs": [],
   "source": []
  }
 ],
 "metadata": {
  "kernelspec": {
   "display_name": "Python 3",
   "language": "python",
   "name": "python3"
  },
  "language_info": {
   "codemirror_mode": {
    "name": "ipython",
    "version": 3
   },
   "file_extension": ".py",
   "mimetype": "text/x-python",
   "name": "python",
   "nbconvert_exporter": "python",
   "pygments_lexer": "ipython3",
   "version": "3.8.3"
  }
 },
 "nbformat": 4,
 "nbformat_minor": 4
}
