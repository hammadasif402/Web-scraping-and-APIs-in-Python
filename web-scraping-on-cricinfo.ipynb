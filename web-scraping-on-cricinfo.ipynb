{
 "cells": [
  {
   "attachments": {
    "image.png": {
     "image/png": "[encoded data removed]"
    }
   },
   "cell_type": "markdown",
   "id": "modern-relationship",
   "metadata": {
    "papermill": {
     "duration": 0.035339,
     "end_time": "2021-04-10T19:01:51.909076",
     "exception": false,
     "start_time": "2021-04-10T19:01:51.873737",
     "status": "completed"
    },
    "tags": []
   },
   "source": [
    "![image.png](attachment:image.png)"
   ]
  },
  {
   "cell_type": "markdown",
   "id": "operating-charleston",
   "metadata": {
    "papermill": {
     "duration": 0.032863,
     "end_time": "2021-04-10T19:01:51.974950",
     "exception": false,
     "start_time": "2021-04-10T19:01:51.942087",
     "status": "completed"
    },
    "tags": []
   },
   "source": [
    "##### In this kaggle kernel, I'm going to do web scraping of Website \"https://www.espncricinfo.com/\" Page.ESPNcricinfo is a sports news website exclusively for the game of cricket. The site features news, articles, live coverage of cricket matches, and StatsGuru, a database of historical matches and players from the 18th century to the present.I'm going to scrap \"ICC ODI Championship\" Table and \"ICC Twenty20 Rankings\" From Ranking Section.\n"
   ]
  },
  {
   "cell_type": "markdown",
   "id": "electoral-working",
   "metadata": {
    "papermill": {
     "duration": 0.032803,
     "end_time": "2021-04-10T19:01:52.040888",
     "exception": false,
     "start_time": "2021-04-10T19:01:52.008085",
     "status": "completed"
    },
    "tags": []
   },
   "source": [
    "#### First we Import all the Important Packages that are required to do Web Scraping.\n",
    "\n",
    " **Numpy** and **Pandas** are standard and I always import it, who knows when it come handy.\n",
    "\n",
    "**Request**: It is a Python module that you can use to send all kinds of HTTP requests. It is an easy-to-use library with a lot of features ranging from passing parameters in URLs to sending custom headers and SSL Verification.\n",
    "\n",
    "**BeautifulSoup** : It is a Python library for pulling data out of HTML and XML files. It works with your favorite parser to provide idiomatic ways of navigating, searching, and modifying the parse tree. It saves hours or days of work."
   ]
  },
  {
   "cell_type": "markdown",
   "id": "falling-contribution",
   "metadata": {
    "papermill": {
     "duration": 0.032507,
     "end_time": "2021-04-10T19:01:52.107214",
     "exception": false,
     "start_time": "2021-04-10T19:01:52.074707",
     "status": "completed"
    },
    "tags": []
   },
   "source": [
    "* Load in the necessary libraries"
   ]
  },
  {
   "cell_type": "code",
   "execution_count": 1,
   "id": "protecting-student",
   "metadata": {
    "execution": {
     "iopub.execute_input": "2021-04-10T19:01:52.190839Z",
     "iopub.status.busy": "2021-04-10T19:01:52.178344Z",
     "iopub.status.idle": "2021-04-10T19:02:02.359960Z",
     "shell.execute_reply": "2021-04-10T19:02:02.360446Z"
    },
    "papermill": {
     "duration": 10.220279,
     "end_time": "2021-04-10T19:02:02.360741",
     "exception": false,
     "start_time": "2021-04-10T19:01:52.140462",
     "status": "completed"
    },
    "tags": []
   },
   "outputs": [
    {
     "name": "stdout",
     "output_type": "stream",
     "text": [
      "Collecting bs4\r\n",
      "  Downloading bs4-0.0.1.tar.gz (1.1 kB)\r\n",
      "Collecting beautifulsoup4\r\n",
      "  Downloading beautifulsoup4-4.9.3-py3-none-any.whl (115 kB)\r\n",
      "\u001b[K     |████████████████████████████████| 115 kB 1.3 MB/s \r\n",
      "\u001b[?25hCollecting soupsieve>1.2\r\n",
      "  Downloading soupsieve-2.2.1-py3-none-any.whl (33 kB)\r\n",
      "Building wheels for collected packages: bs4\r\n",
      "  Building wheel for bs4 (setup.py) ... \u001b[?25l-\b \b\\\b \bdone\r\n",
      "\u001b[?25h  Created wheel for bs4: filename=bs4-0.0.1-py3-none-any.whl size=1273 sha256=969427164fcf6fd277f062296f193e00f2fde4096dcc94221588212b02879d92\r\n",
      "  Stored in directory: /root/.cache/pip/wheels/0a/9e/ba/20e5bbc1afef3a491f0b3bb74d508f99403aabe76eda2167ca\r\n",
      "Successfully built bs4\r\n",
      "Installing collected packages: soupsieve, beautifulsoup4, bs4\r\n",
      "Successfully installed beautifulsoup4-4.9.3 bs4-0.0.1 soupsieve-2.2.1\r\n",
      "Note: you may need to restart the kernel to use updated packages.\n"
     ]
    }
   ],
   "source": [
    "pip install bs4"
   ]
  },
  {
   "cell_type": "code",
   "execution_count": 2,
   "id": "sweet-outside",
   "metadata": {
    "execution": {
     "iopub.execute_input": "2021-04-10T19:02:02.445083Z",
     "iopub.status.busy": "2021-04-10T19:02:02.444456Z",
     "iopub.status.idle": "2021-04-10T19:02:02.597602Z",
     "shell.execute_reply": "2021-04-10T19:02:02.597033Z"
    },
    "papermill": {
     "duration": 0.197222,
     "end_time": "2021-04-10T19:02:02.597738",
     "exception": false,
     "start_time": "2021-04-10T19:02:02.400516",
     "status": "completed"
    },
    "tags": []
   },
   "outputs": [],
   "source": [
    "import requests\n",
    "from bs4 import BeautifulSoup\n",
    "import pandas as pd\n",
    "import numpy as np"
   ]
  },
  {
   "cell_type": "markdown",
   "id": "seasonal-interview",
   "metadata": {
    "papermill": {
     "duration": 0.038379,
     "end_time": "2021-04-10T19:02:02.674560",
     "exception": false,
     "start_time": "2021-04-10T19:02:02.636181",
     "status": "completed"
    },
    "tags": []
   },
   "source": [
    "* And here comes the link, first we copy and paste the url and assigned it to the variable link, then we send a request to the web page to reture the information.\n",
    "\n",
    "*  After requesting, we will check it.it will connected or not.i did here print(response.ok) it gives the output of \"<Response [200]>\" or \"200\" and \"True\" which means you are allowed to do web scraping on such websites.\n"
   ]
  },
  {
   "cell_type": "code",
   "execution_count": 3,
   "id": "transparent-turtle",
   "metadata": {
    "execution": {
     "iopub.execute_input": "2021-04-10T19:02:02.756383Z",
     "iopub.status.busy": "2021-04-10T19:02:02.755771Z",
     "iopub.status.idle": "2021-04-10T19:02:03.300676Z",
     "shell.execute_reply": "2021-04-10T19:02:03.301110Z"
    },
    "papermill": {
     "duration": 0.588353,
     "end_time": "2021-04-10T19:02:03.301277",
     "exception": false,
     "start_time": "2021-04-10T19:02:02.712924",
     "status": "completed"
    },
    "tags": []
   },
   "outputs": [
    {
     "data": {
      "text/plain": [
       "True"
      ]
     },
     "execution_count": 3,
     "metadata": {},
     "output_type": "execute_result"
    }
   ],
   "source": [
    "response = requests.get(\"https://www.espncricinfo.com/rankings/content/page/211271.html\")\n",
    "response.ok"
   ]
  },
  {
   "cell_type": "code",
   "execution_count": 4,
   "id": "built-wright",
   "metadata": {
    "execution": {
     "iopub.execute_input": "2021-04-10T19:02:03.383543Z",
     "iopub.status.busy": "2021-04-10T19:02:03.382652Z",
     "iopub.status.idle": "2021-04-10T19:02:03.387087Z",
     "shell.execute_reply": "2021-04-10T19:02:03.386591Z"
    },
    "papermill": {
     "duration": 0.04745,
     "end_time": "2021-04-10T19:02:03.387208",
     "exception": false,
     "start_time": "2021-04-10T19:02:03.339758",
     "status": "completed"
    },
    "tags": []
   },
   "outputs": [
    {
     "data": {
      "text/plain": [
       "'text/html; charset=UTF-8'"
      ]
     },
     "execution_count": 4,
     "metadata": {},
     "output_type": "execute_result"
    }
   ],
   "source": [
    "response.headers['Content-Type']"
   ]
  },
  {
   "cell_type": "code",
   "execution_count": 5,
   "id": "later-durham",
   "metadata": {
    "execution": {
     "iopub.execute_input": "2021-04-10T19:02:03.468978Z",
     "iopub.status.busy": "2021-04-10T19:02:03.468307Z",
     "iopub.status.idle": "2021-04-10T19:02:03.471324Z",
     "shell.execute_reply": "2021-04-10T19:02:03.470776Z"
    },
    "papermill": {
     "duration": 0.045798,
     "end_time": "2021-04-10T19:02:03.471485",
     "exception": false,
     "start_time": "2021-04-10T19:02:03.425687",
     "status": "completed"
    },
    "tags": []
   },
   "outputs": [],
   "source": [
    "content = response.content"
   ]
  },
  {
   "cell_type": "markdown",
   "id": "scheduled-hybrid",
   "metadata": {
    "papermill": {
     "duration": 0.039338,
     "end_time": "2021-04-10T19:02:03.549728",
     "exception": false,
     "start_time": "2021-04-10T19:02:03.510390",
     "status": "completed"
    },
    "tags": []
   },
   "source": [
    "#### we use **Beatiful Soup** to Convert the HTML page in to readable form by passing \"html.parser\"."
   ]
  },
  {
   "cell_type": "code",
   "execution_count": 6,
   "id": "significant-venue",
   "metadata": {
    "execution": {
     "iopub.execute_input": "2021-04-10T19:02:03.639273Z",
     "iopub.status.busy": "2021-04-10T19:02:03.638695Z",
     "iopub.status.idle": "2021-04-10T19:02:03.730820Z",
     "shell.execute_reply": "2021-04-10T19:02:03.731276Z"
    },
    "papermill": {
     "duration": 0.142399,
     "end_time": "2021-04-10T19:02:03.731450",
     "exception": false,
     "start_time": "2021-04-10T19:02:03.589051",
     "status": "completed"
    },
    "tags": []
   },
   "outputs": [],
   "source": [
    "read = BeautifulSoup(content, \"html.parser\")"
   ]
  },
  {
   "cell_type": "code",
   "execution_count": 7,
   "id": "sexual-mouse",
   "metadata": {
    "execution": {
     "iopub.execute_input": "2021-04-10T19:02:03.811297Z",
     "iopub.status.busy": "2021-04-10T19:02:03.810707Z",
     "iopub.status.idle": "2021-04-10T19:02:03.814975Z",
     "shell.execute_reply": "2021-04-10T19:02:03.815598Z"
    },
    "papermill": {
     "duration": 0.045501,
     "end_time": "2021-04-10T19:02:03.815754",
     "exception": false,
     "start_time": "2021-04-10T19:02:03.770253",
     "status": "completed"
    },
    "tags": []
   },
   "outputs": [
    {
     "data": {
      "text/plain": [
       "<Response [200]>"
      ]
     },
     "execution_count": 7,
     "metadata": {},
     "output_type": "execute_result"
    }
   ],
   "source": [
    "response"
   ]
  },
  {
   "cell_type": "markdown",
   "id": "judicial-coating",
   "metadata": {
    "papermill": {
     "duration": 0.037842,
     "end_time": "2021-04-10T19:02:03.897297",
     "exception": false,
     "start_time": "2021-04-10T19:02:03.859455",
     "status": "completed"
    },
    "tags": []
   },
   "source": [
    "* There is only one divider in the ranking section.You can check through **Right Clicking** on the mouse then go to **Inspect Element** The great part of Inspect Element is that only highlite that line where you click your cursor."
   ]
  },
  {
   "cell_type": "code",
   "execution_count": 8,
   "id": "brown-hamburg",
   "metadata": {
    "execution": {
     "iopub.execute_input": "2021-04-10T19:02:03.978652Z",
     "iopub.status.busy": "2021-04-10T19:02:03.977939Z",
     "iopub.status.idle": "2021-04-10T19:02:04.019625Z",
     "shell.execute_reply": "2021-04-10T19:02:04.020126Z"
    },
    "papermill": {
     "duration": 0.08446,
     "end_time": "2021-04-10T19:02:04.020298",
     "exception": false,
     "start_time": "2021-04-10T19:02:03.935838",
     "status": "completed"
    },
    "tags": []
   },
   "outputs": [
    {
     "data": {
      "text/plain": [
       "<div class=\"nav_inner\" id=\"nav_inner\">\n",
       "<div class=\"nav_btn\" id=\"nav_btn\">\n",
       "<span class=\"back-icon-svg\">\n",
       "<svg id=\"Capa_1\" style=\"enable-background:new 0 0 31.494 31.494;\" version=\"1.1\" viewbox=\"0 0 31.494 31.494\" x=\"0px\" xml:space=\"preserve\" xmlns=\"http://www.w3.org/2000/svg\" xmlns:xlink=\"http://www.w3.org/1999/xlink\" y=\"0px\"> <path d=\"M10.273,5.009c0.444-0.444,1.143-0.444,1.587,0c0.429,0.429,0.429,1.143,0,1.571l-8.047,8.047h26.554 c0.619,0,1.127,0.492,1.127,1.111c0,0.619-0.508,1.127-1.127,1.127H3.813l8.047,8.032c0.429,0.444,0.429,1.159,0,1.587 c-0.444,0.444-1.143,0.444-1.587,0l-9.952-9.952c-0.429-0.429-0.429-1.143,0-1.571L10.273,5.009z\" style=\"fill:#FFFFFF;\"></path> <g> </g> <g> </g> <g> </g> <g> </g> <g> </g> <g> </g> <g> </g> <g> </g> <g> </g> <g> </g> <g> </g> <g> </g> <g> </g> <g> </g> <g> </g> </svg>\n",
       "</span>\n",
       "</div>\n",
       "<div class=\"ci_logo\" id=\"ci_logo\">\n",
       "<a href=\"/\">\n",
       "<img src=\"https://www.espncricinfo.com/static/images/logo.png\"/>\n",
       "<span class=\"logo_txt\">ESPN Cricinfo</span>\n",
       "</a>\n",
       "</div>\n",
       "<nav class=\"main_nav\" data-role=\"none\" id=\"main_nav\">\n",
       "<ul class=\"nav_grp\" data-role=\"none\" id=\"nav_grp\">\n",
       "<li class=\"nav_grpitm nav_live_scores\">\n",
       "<a href=\"/live-cricket-score\" name=\"&amp;lpos=header_livescores\">Live Scores</a>\n",
       "<div class=\"nav_grp_lvl1 main_nav_options dd_wrap\">\n",
       "<ul class=\"sub_nav\" data-role=\"none\">\n",
       "<li class=\"sub_nav_item\">\n",
       "<a href=\"/live-cricket-score\" name=\"&amp;lpos=header_livescores\">Live Scores Home</a>\n",
       "</li>\n",
       "<li class=\"sub_nav_item\">\n",
       "<a href=\"https://www.espncricinfo.com/ci/engine/match/index.html?view=week\" name=\"&amp;lpos=header_livescores\">Week view</a>\n",
       "</li>\n",
       "<li class=\"sub_nav_item\">\n",
       "<a href=\"https://www.espncricinfo.com/ci/engine/series/index.html?view=month\" name=\"&amp;lpos=header_livescores\">Month view</a>\n",
       "</li>\n",
       "<li class=\"sub_nav_item\">\n",
       "<a href=\"https://www.espncricinfo.com/ci/engine/series/index.html?view=season\" name=\"&amp;lpos=header_livescores\">Season view</a>\n",
       "</li>\n",
       "<li class=\"sub_nav_item\">\n",
       "<a href=\"https://www.espncricinfo.com/ci/engine/match/index.html?view=calendar\" name=\"&amp;lpos=header_livescores\">International calendar</a>\n",
       "</li>\n",
       "<li class=\"sub_nav_item\">\n",
       "<a href=\"https://www.espncricinfo.com/ci/engine/match/scores/desktop.html\" name=\"&amp;lpos=header_livescores\">Desktop Scoreboard</a>\n",
       "</li>\n",
       "</ul>\n",
       "</div>\n",
       "</li>\n",
       "<li class=\"nav_grpitm nav_series\">\n",
       "<a href=\"https://www.espncricinfo.com/ci/content/match/fixtures_futures.html\" name=\"&amp;lpos=header_series\">Series</a>\n",
       "<div class=\"nav_grp_lvl1 main_nav_options dd_wrap\">\n",
       "<ul class=\"sub_nav\" data-role=\"none\">\n",
       "<li class=\"sub_nav_item\">\n",
       "<a href=\"/series/ipl-2021-1249214\" name=\"&amp;lpos=header_series\">IPL 2021</a>\n",
       "</li>\n",
       "<li class=\"sub_nav_item\">\n",
       "<a href=\"/series/pakistan-tour-of-south-africa-2021-1251556\" name=\"&amp;lpos=header_series\">South Africa v Pakistan</a>\n",
       "</li>\n",
       "<li class=\"sub_nav_item\">\n",
       "<a href=\"/series/australia-women-in-new-zealand-2020-21-1249224\" name=\"&amp;lpos=header_series\">NZ-W v AUS-W</a>\n",
       "</li>\n",
       "<li class=\"sub_nav_item\">\n",
       "<a href=\"/series/the-marsh-cup-2020-21-1244113\" name=\"&amp;lpos=header_series\">Marsh Cup</a>\n",
       "</li>\n",
       "<li class=\"sub_nav_item\">\n",
       "<a href=\"/series/sheffield-shield-2020-21-1233442\" name=\"&amp;lpos=header_series\">Sheffield Shield</a>\n",
       "</li>\n",
       "<li class=\"sub_nav_item\">\n",
       "<a href=\"/series/a20-league-2020-21-1255254\" name=\"&amp;lpos=header_series\">A20 League</a>\n",
       "</li>\n",
       "<li class=\"sub_nav_item\">\n",
       "<a href=\"/series/county-championship-2021-1244186\" name=\"&amp;lpos=header_series\">County Championship</a>\n",
       "</li>\n",
       "<li class=\"sub_nav_item\">\n",
       "<a href=\"/series/icc-women-s-championship-2017-18-2021-1122932\" name=\"&amp;lpos=header_series\">ICC Women's Championship</a>\n",
       "</li>\n",
       "<li class=\"sub_nav_item\">\n",
       "<a href=\"/series/world-cup-league-2-2019-2021-22-1196667\" name=\"&amp;lpos=header_series\">Cricket World Cup League 2</a>\n",
       "</li>\n",
       "<li class=\"sub_nav_item\">\n",
       "<a href=\"/series/cwc-challenge-league-a-2019-2021-22-1200432\" name=\"&amp;lpos=header_series\">CWC Challenge League A</a>\n",
       "</li>\n",
       "<li class=\"sub_nav_item\">\n",
       "<a href=\"/series/challenge-league-group-b-2019-2021-22-1207049\" name=\"&amp;lpos=header_series\">CWC Challenge League B</a>\n",
       "</li>\n",
       "<li class=\"sub_nav_item\">\n",
       "<a href=\"/series/world-cup-super-league-2020-2022-23-1227837\" name=\"&amp;lpos=header_series\">ICC CWC Super League</a>\n",
       "</li>\n",
       "<li class=\"sub_nav_item\">\n",
       "<a href=\"/series/icc-world-test-championship-2019-2021-1195334\" name=\"&amp;lpos=header_series\">World Test Championship</a>\n",
       "</li>\n",
       "<li class=\"sub_nav_item\">\n",
       "<a href=\"https://www.espncricinfo.com/ci/content/match/fixtures_futures.html\" name=\"&amp;lpos=header_series\">-Future series-</a>\n",
       "</li>\n",
       "<li class=\"sub_nav_item\">\n",
       "<a href=\"https://www.espncricinfo.com/ci/engine/series/index.html\" name=\"&amp;lpos=header_series\">-Archives-</a>\n",
       "</li>\n",
       "</ul>\n",
       "</div>\n",
       "</li>\n",
       "<li class=\"nav_grpitm nav_teams\">\n",
       "<a href=\"/team\" name=\"&amp;lpos=header_teams\">Teams</a>\n",
       "<div class=\"nav_grp_lvl1 main_nav_options dd_wrap\">\n",
       "<ul class=\"subnav_grp\" data-role=\"none\">\n",
       "<li class=\"subnav_grpitm\">\n",
       "<ul class=\"sub_nav\" data-role=\"none\">\n",
       "<li class=\"sub_nav_item\">\n",
       "<a href=\"/team/australia-2\" name=\"&amp;lpos=header_teams\">Australia</a>\n",
       "</li>\n",
       "<li class=\"sub_nav_item\">\n",
       "<a href=\"/team/afghanistan-40\" name=\"&amp;lpos=header_teams\">Afghanistan</a>\n",
       "</li>\n",
       "<li class=\"sub_nav_item\">\n",
       "<a href=\"/team/bangladesh-25\" name=\"&amp;lpos=header_teams\">Bangladesh</a>\n",
       "</li>\n",
       "<li class=\"sub_nav_item\">\n",
       "<a href=\"/team/ireland-29\" name=\"&amp;lpos=header_teams\">Ireland</a>\n",
       "</li>\n",
       "<li class=\"sub_nav_item\">\n",
       "<a href=\"/team/england-1\" name=\"&amp;lpos=header_teams\">England</a>\n",
       "</li>\n",
       "<li class=\"sub_nav_item\">\n",
       "<a href=\"/team/namibia-28\" name=\"&amp;lpos=header_teams\">Namibia</a>\n",
       "</li>\n",
       "<li class=\"sub_nav_item\">\n",
       "<a href=\"/team/india-6\" name=\"&amp;lpos=header_teams\">India</a>\n",
       "</li>\n",
       "<li class=\"sub_nav_item\">\n",
       "<a href=\"/team/nepal-33\" name=\"&amp;lpos=header_teams\">Nepal</a>\n",
       "</li>\n",
       "<li class=\"sub_nav_item\">\n",
       "<a href=\"/team/new-zealand-5\" name=\"&amp;lpos=header_teams\">New Zealand</a>\n",
       "</li>\n",
       "<li class=\"sub_nav_item\">\n",
       "<a href=\"/team/netherlands-15\" name=\"&amp;lpos=header_teams\">Netherlands</a>\n",
       "</li>\n",
       "<li class=\"sub_nav_item\">\n",
       "<a href=\"/team/pakistan-7\" name=\"&amp;lpos=header_teams\">Pakistan</a>\n",
       "</li>\n",
       "<li class=\"sub_nav_item\">\n",
       "<a href=\"/team/oman-37\" name=\"&amp;lpos=header_teams\">Oman</a>\n",
       "</li>\n",
       "<li class=\"sub_nav_item\">\n",
       "<a href=\"/team/south-africa-3\" name=\"&amp;lpos=header_teams\">South Africa</a>\n",
       "</li>\n",
       "<li class=\"sub_nav_item\">\n",
       "<a href=\"/team/papua-new-guinea-20\" name=\"&amp;lpos=header_teams\">PNG</a>\n",
       "</li>\n",
       "<li class=\"sub_nav_item\">\n",
       "<a href=\"/team/sri-lanka-8\" name=\"&amp;lpos=header_teams\">Sri Lanka</a>\n",
       "</li>\n",
       "<li class=\"sub_nav_item\">\n",
       "<a href=\"/team/scotland-30\" name=\"&amp;lpos=header_teams\">Scotland</a>\n",
       "</li>\n",
       "<li class=\"sub_nav_item\">\n",
       "<a href=\"/team/west-indies-4\" name=\"&amp;lpos=header_teams\">West Indies</a>\n",
       "</li>\n",
       "<li class=\"sub_nav_item\">\n",
       "<a href=\"/team/united-arab-emirates-27\" name=\"&amp;lpos=header_teams\">UAE</a>\n",
       "</li>\n",
       "<li class=\"sub_nav_item\">\n",
       "<a href=\"/team/zimbabwe-9\" name=\"&amp;lpos=header_teams\">Zimbabwe</a>\n",
       "</li>\n",
       "<li class=\"sub_nav_item\">\n",
       "<a href=\"/team/united-states-of-america-11\" name=\"&amp;lpos=header_teams\">USA</a>\n",
       "</li>\n",
       "</ul>\n",
       "</li>\n",
       "</ul>\n",
       "</div>\n",
       "</li>\n",
       "<li class=\"nav_grpitm nav_news\">\n",
       "<a href=\"https://www.espncricinfo.com/ci/content/story/news.html\" name=\"&amp;lpos=header_news\">News</a>\n",
       "<div class=\"nav_grp_lvl1 main_nav_options dd_wrap\">\n",
       "<ul class=\"subnav_grp\" data-role=\"none\">\n",
       "<li class=\"subnav_grpitm\">\n",
       "<ul class=\"sub_nav\" data-role=\"none\">\n",
       "<li class=\"sub_nav_item\">\n",
       "<a href=\"https://www.espncricinfo.com/ci/content/story/news.html\" name=\"&amp;lpos=header_news\">News Home</a>\n",
       "</li>\n",
       "<li class=\"sub_nav_item\">\n",
       "<a href=\"https://www.espncricinfo.com/infocus/content/story/infocus.html\" name=\"&amp;lpos=header_news\">In Focus</a>\n",
       "</li>\n",
       "</ul>\n",
       "</li>\n",
       "</ul>\n",
       "</div>\n",
       "</li>\n",
       "<li class=\"nav_grpitm nav_features\">\n",
       "<a href=\"https://www.espncricinfo.com/ci/content/story/features.html\" name=\"&amp;lpos=header_features\">Features</a>\n",
       "<div class=\"nav_grp_lvl1 main_nav_options dd_wrap\">\n",
       "<ul class=\"subnav_grp\" data-role=\"none\">\n",
       "<li class=\"subnav_grpitm\">\n",
       "<ul class=\"sub_nav\" data-role=\"none\">\n",
       "<li class=\"sub_nav_item\">\n",
       "<a href=\"https://www.espncricinfo.com/ci/content/story/features.html\" name=\"&amp;lpos=header_features\">Features Home</a>\n",
       "</li>\n",
       "<li class=\"sub_nav_item\">\n",
       "<a href=\"/story/espncricinfo-writers-index-1240580\" name=\"&amp;lpos=header_features\">Writers</a>\n",
       "</li>\n",
       "<li class=\"sub_nav_item\">\n",
       "<a href=\"https://www.thecricketmonthly.com/\" name=\"&amp;lpos=header_features\" target=\"_blank\">The Cricket Monthly</a>\n",
       "</li>\n",
       "</ul>\n",
       "</li>\n",
       "</ul>\n",
       "</div>\n",
       "</li>\n",
       "<li class=\"nav_grpitm nav_videos\">\n",
       "<a href=\"/video\" name=\"&amp;lpos=header_videos\">Videos</a>\n",
       "<div class=\"nav_grp_lvl1 main_nav_options dd_wrap\">\n",
       "<ul class=\"subnav_grp\" data-role=\"none\">\n",
       "<li class=\"subnav_grpitm\">\n",
       "<ul class=\"sub_nav\" data-role=\"none\">\n",
       "<li class=\"sub_nav_item\">\n",
       "<a href=\"/video\" name=\"&amp;lpos=header_videos\">Videos Home</a>\n",
       "</li>\n",
       "<li class=\"sub_nav_item\">\n",
       "<a href=\"/video/genre/t20-time-out-221\" name=\"&amp;lpos=header_videos\">T20 Timeout</a>\n",
       "</li>\n",
       "<li class=\"sub_nav_item\">\n",
       "<a href=\"/video/genre/highlights-37\" name=\"&amp;lpos=header_videos\">Highlights</a>\n",
       "</li>\n",
       "<li class=\"sub_nav_item\">\n",
       "<a href=\"/video/genre/match-day-155\" name=\"&amp;lpos=header_videos\">Matchday</a>\n",
       "</li>\n",
       "<li class=\"sub_nav_item\">\n",
       "<a href=\"/video/genre/sahi-hai-decisions-229\" name=\"&amp;lpos=header_videos\">Sahi Hai Decisions</a>\n",
       "</li>\n",
       "<li class=\"sub_nav_item\">\n",
       "<a href=\"/video/genre/fantasy-pick-85\" name=\"&amp;lpos=header_videos\">Fantasy Pick</a>\n",
       "</li>\n",
       "<li class=\"sub_nav_item\">\n",
       "<a href=\"/video/genre/politeenquiries-119\" name=\"&amp;lpos=header_videos\">POLITE ENQUIRIES</a>\n",
       "</li>\n",
       "<li class=\"sub_nav_item\">\n",
       "<a href=\"/video/genre/run-order-166\" name=\"&amp;lpos=header_videos\">Run Order</a>\n",
       "</li>\n",
       "<li class=\"sub_nav_item\">\n",
       "<a href=\"/video/genre/the-chatter-48\" name=\"&amp;lpos=header_videos\">The Chatter</a>\n",
       "</li>\n",
       "<li class=\"sub_nav_item\">\n",
       "<a href=\"/video/genre/newsroom-218\" name=\"&amp;lpos=header_videos\">Newsroom</a>\n",
       "</li>\n",
       "<li class=\"sub_nav_item\">\n",
       "<a href=\"/video/genre/25-questions-191\" name=\"&amp;lpos=header_videos\">25 Questions</a>\n",
       "</li>\n",
       "<li class=\"sub_nav_item\">\n",
       "<a href=\"/video/genre/hindi-200\" name=\"&amp;lpos=header_videos\">Hindi Videos</a>\n",
       "</li>\n",
       "<li class=\"sub_nav_item\">\n",
       "<a href=\"/video/genre/news-and-analysis-34\" name=\"&amp;lpos=header_videos\">News and Analysis</a>\n",
       "</li>\n",
       "<li class=\"sub_nav_item\">\n",
       "<a href=\"/video/genre/match-analysis-1\" name=\"&amp;lpos=header_videos\">Match Analysis</a>\n",
       "</li>\n",
       "<li class=\"sub_nav_item\">\n",
       "<a href=\"/video/genre/interviews-9\" name=\"&amp;lpos=header_videos\">Interviews</a>\n",
       "</li>\n",
       "<li class=\"sub_nav_item\">\n",
       "<a href=\"/video/genre/features-46\" name=\"&amp;lpos=header_videos\">Features</a>\n",
       "</li>\n",
       "<li class=\"sub_nav_item\">\n",
       "<a href=\"/video/genre/press-conference-2\" name=\"&amp;lpos=header_videos\">Press Conference</a>\n",
       "</li>\n",
       "<li class=\"sub_nav_item\">\n",
       "<a href=\"http://www.youtube.com/ESPNCricinfo\" name=\"&amp;lpos=header_videos\" target=\"_blank\">YouTube</a>\n",
       "</li>\n",
       "</ul>\n",
       "</li>\n",
       "</ul>\n",
       "</div>\n",
       "</li>\n",
       "<li class=\"nav_grpitm nav_stats\">\n",
       "<a href=\"https://www.espncricinfo.com/ci/engine/records/index.html\" name=\"&amp;lpos=header_stats\">Stats</a>\n",
       "<div class=\"nav_grp_lvl1 main_nav_options dd_wrap\">\n",
       "<ul class=\"sub_nav\" data-role=\"none\">\n",
       "<li class=\"sub_nav_item\">\n",
       "<a href=\"https://www.espncricinfo.com/ci/engine/records/index.html\" name=\"&amp;lpos=header_stats\">Stats home</a>\n",
       "</li>\n",
       "<li class=\"sub_nav_item\">\n",
       "<a href=\"https://www.espncricinfo.com/ci/engine/stats/index.html\" name=\"&amp;lpos=header_stats\">Statsguru</a>\n",
       "</li>\n",
       "<li class=\"sub_nav_item\">\n",
       "<a href=\"/ci/content/story/genre.html?genre=706\" name=\"&amp;lpos=header_stats\">SuperStats</a>\n",
       "</li>\n",
       "<li class=\"sub_nav_item\">\n",
       "<a href=\"https://www.espncricinfo.com/ci/engine/records/index.html?id=2021;type=year\" name=\"&amp;lpos=header_stats\">2021 records</a>\n",
       "</li>\n",
       "<li class=\"sub_nav_item\">\n",
       "<a href=\"https://www.espncricinfo.com/ci/engine/records/index.html\" name=\"&amp;lpos=header_stats\">All records</a>\n",
       "</li>\n",
       "<li class=\"sub_nav_item\">\n",
       "<a href=\"https://www.espncricinfo.com/ci/content/player/index.html\" name=\"&amp;lpos=header_stats\">Players</a>\n",
       "</li>\n",
       "<li class=\"sub_nav_item\">\n",
       "<a href=\"https://www.espncricinfo.com/ci/content/ground/index.html\" name=\"&amp;lpos=header_stats\">Grounds</a>\n",
       "</li>\n",
       "<li class=\"sub_nav_item\">\n",
       "<a href=\"https://www.espncricinfo.com/rankings/content/page/211271.html\" name=\"&amp;lpos=header_stats\">Rankings</a>\n",
       "</li>\n",
       "</ul>\n",
       "</div>\n",
       "</li>\n",
       "</ul>\n",
       "<ul class=\"nav_grp nav_grp_right\" data-role=\"none\">\n",
       "<!-- Right side section starts -->\n",
       "<li class=\"nav_grpitm nav_editions\" id=\"edition_grp\">\n",
       "<a href=\"#\" name=\"&amp;lpos=header_editions\">Edition US</a>\n",
       "<div class=\"nav_grp_lvl1 dd_wrap\">\n",
       "<ul class=\"subnav_grp\" data-role=\"none\">\n",
       "<li class=\"subnav_grpitm\">\n",
       "<ul class=\"sub_nav\" data-role=\"none\">\n",
       "<li class=\"sub_nav_item\"><a class=\"nav-link dropdown-item\" data-edition=\"espncricinfo-en-za\" data-hover=\"Africa\" href=\"#\" rel=\"\" target=\"_self\">Africa</a></li>\n",
       "<li class=\"sub_nav_item\"><a class=\"nav-link dropdown-item\" data-edition=\"espncricinfo-en-bd\" data-hover=\"Bangladesh\" href=\"#\" rel=\"\" target=\"_self\">Bangladesh</a></li>\n",
       "<li class=\"sub_nav_item\"><a class=\"nav-link dropdown-item\" data-edition=\"espncricinfo-en-nz\" data-hover=\"New Zealand\" href=\"#\" rel=\"\" target=\"_self\">New Zealand</a></li>\n",
       "<li class=\"sub_nav_item\"><a class=\"nav-link dropdown-item\" data-edition=\"espncricinfo-en-lk\" data-hover=\"Sri Lanka\" href=\"#\" rel=\"\" target=\"_self\">Sri Lanka</a></li>\n",
       "<li class=\"sub_nav_item\"><a class=\"nav-link dropdown-item dropdown-item-selected\" data-edition=\"espncricinfo-en-us\" data-hover=\"United States\" href=\"#\" rel=\"\" target=\"_self\">United States</a></li>\n",
       "</ul>\n",
       "</li>\n",
       "<li class=\"subnav_grpitm\">\n",
       "<ul class=\"sub_nav\" data-role=\"none\">\n",
       "<li class=\"sub_nav_item\"><a class=\"nav-link dropdown-item\" data-edition=\"espncricinfo-en-au\" data-hover=\"Australia\" href=\"#\" rel=\"\" target=\"_self\">Australia</a></li>\n",
       "<li class=\"sub_nav_item\"><a class=\"nav-link dropdown-item active\" data-edition=\"espncricinfo-en-in\" data-hover=\"India\" href=\"#\" rel=\"\" target=\"_self\">India</a></li>\n",
       "<li class=\"sub_nav_item\"><a class=\"nav-link dropdown-item\" data-edition=\"espncricinfo-en-pk\" data-hover=\"Pakistan\" href=\"#\" rel=\"\" target=\"_self\">Pakistan</a></li>\n",
       "<li class=\"sub_nav_item\"><a class=\"nav-link dropdown-item\" data-edition=\"espncricinfo-en-uk\" data-hover=\"United Kingdom\" href=\"#\" rel=\"\" target=\"_self\">United Kingdom</a></li>\n",
       "<li class=\"sub_nav_item\"><a class=\"nav-link dropdown-item\" data-edition=\"espncricinfo-en-ww\" data-hover=\"Global\" href=\"#\" rel=\"\" target=\"_self\">Global</a></li>\n",
       "</ul>\n",
       "</li>\n",
       "</ul>\n",
       "</div>\n",
       "</li>\n",
       "<li class=\"nav_grpitm nav_more_item\">\n",
       "<div class=\"nav_grpico\">\n",
       "<a class=\"sp nav_more_img\" href=\"#\" name=\"&amp;lpos=header_editions\"></a>\n",
       "</div>\n",
       "<div class=\"nav_grp_lvl1 dd_wrap\">\n",
       "<ul class=\"nav_grp_more_ftr\">\n",
       "<li class=\"sub_nav_item\">\n",
       "<a class=\"featured-link\" data-hover=\"\" href=\"https://www.espncricinfo.com/wisdenalmanack/content/story/almanack\" rel=\"noopener noreferrer\" target=\"_blank\">\n",
       "<img alt=\"\" class=\"img\" src=\"https://a.espncdn.com/redesign/assets/img/logos/wisden.png\"/>\n",
       "<span class=\"link-label\">Wisden Almanack</span>\n",
       "</a>\n",
       "<span class=\"external-icon-svg\">\n",
       "<svg version=\"1.1\" viewbox=\"0 0 24 24\" xmlns=\"http://www.w3.org/2000/svg\" xmlns:xlink=\"http://www.w3.org/1999/xlink\">\n",
       "<g id=\"surface23881170\">\n",
       "<rect height=\"24\" style=\"fill:rgb(100%,100%,100%);fill-opacity:1;stroke:none;\" width=\"24\" x=\"0\" y=\"0\"></rect>\n",
       "<path d=\"M 20.734375 2.492188 C 20.707031 2.492188 20.679688 2.496094 20.652344 2.5 L 13.75 2.5 C 13.480469 2.496094 13.226562 2.636719 13.089844 2.871094 C 12.957031 3.105469 12.957031 3.394531 13.089844 3.628906 C 13.226562 3.863281 13.480469 4.003906 13.75 4 L 18.9375 4 L 11.21875 11.71875 C 11.023438 11.90625 10.945312 12.1875 11.011719 12.449219 C 11.082031 12.710938 11.289062 12.917969 11.550781 12.988281 C 11.8125 13.054688 12.09375 12.976562 12.28125 12.78125 L 20 5.0625 L 20 10.25 C 19.996094 10.519531 20.136719 10.773438 20.371094 10.910156 C 20.605469 11.042969 20.894531 11.042969 21.128906 10.910156 C 21.363281 10.773438 21.503906 10.519531 21.5 10.25 L 21.5 3.34375 C 21.53125 3.125 21.460938 2.90625 21.316406 2.742188 C 21.167969 2.578125 20.957031 2.488281 20.734375 2.492188 Z M 6.25 4 C 4.1875 4 2.5 5.6875 2.5 7.75 L 2.5 17.75 C 2.5 19.8125 4.1875 21.5 6.25 21.5 L 16.25 21.5 C 18.3125 21.5 20 19.8125 20 17.75 L 20 12.75 C 20.003906 12.480469 19.863281 12.226562 19.628906 12.089844 C 19.394531 11.957031 19.105469 11.957031 18.871094 12.089844 C 18.636719 12.226562 18.496094 12.480469 18.5 12.75 L 18.5 17.75 C 18.5 19 17.5 20 16.25 20 L 6.25 20 C 5 20 4 19 4 17.75 L 4 7.75 C 4 6.5 5 5.5 6.25 5.5 L 11.25 5.5 C 11.519531 5.503906 11.773438 5.363281 11.910156 5.128906 C 12.042969 4.894531 12.042969 4.605469 11.910156 4.371094 C 11.773438 4.136719 11.519531 3.996094 11.25 4 Z M 6.25 4 \" style=\" stroke:none;fill-rule:nonzero;fill:rgb(28.235295%,28.627452%,29.019609%);fill-opacity:1;\"></path>\n",
       "</g>\n",
       "</svg>\n",
       "</span>\n",
       "</li>\n",
       "<li class=\"sub_nav_item\">\n",
       "<a class=\"featured-link\" data-hover=\"\" href=\"https://www.espn.in\" rel=\"noopener noreferrer\" target=\"_blank\">\n",
       "<img alt=\"\" class=\"img\" src=\"https://a.espncdn.com/redesign/assets/img/logos/espn-logo-cric.png\"/>\n",
       "<span class=\"link-label\">ESPN.in</span>\n",
       "</a>\n",
       "<span class=\"external-icon-svg\">\n",
       "<svg version=\"1.1\" viewbox=\"0 0 24 24\" xmlns=\"http://www.w3.org/2000/svg\" xmlns:xlink=\"http://www.w3.org/1999/xlink\">\n",
       "<g id=\"surface23881170\">\n",
       "<rect height=\"24\" style=\"fill:rgb(100%,100%,100%);fill-opacity:1;stroke:none;\" width=\"24\" x=\"0\" y=\"0\"></rect>\n",
       "<path d=\"M 20.734375 2.492188 C 20.707031 2.492188 20.679688 2.496094 20.652344 2.5 L 13.75 2.5 C 13.480469 2.496094 13.226562 2.636719 13.089844 2.871094 C 12.957031 3.105469 12.957031 3.394531 13.089844 3.628906 C 13.226562 3.863281 13.480469 4.003906 13.75 4 L 18.9375 4 L 11.21875 11.71875 C 11.023438 11.90625 10.945312 12.1875 11.011719 12.449219 C 11.082031 12.710938 11.289062 12.917969 11.550781 12.988281 C 11.8125 13.054688 12.09375 12.976562 12.28125 12.78125 L 20 5.0625 L 20 10.25 C 19.996094 10.519531 20.136719 10.773438 20.371094 10.910156 C 20.605469 11.042969 20.894531 11.042969 21.128906 10.910156 C 21.363281 10.773438 21.503906 10.519531 21.5 10.25 L 21.5 3.34375 C 21.53125 3.125 21.460938 2.90625 21.316406 2.742188 C 21.167969 2.578125 20.957031 2.488281 20.734375 2.492188 Z M 6.25 4 C 4.1875 4 2.5 5.6875 2.5 7.75 L 2.5 17.75 C 2.5 19.8125 4.1875 21.5 6.25 21.5 L 16.25 21.5 C 18.3125 21.5 20 19.8125 20 17.75 L 20 12.75 C 20.003906 12.480469 19.863281 12.226562 19.628906 12.089844 C 19.394531 11.957031 19.105469 11.957031 18.871094 12.089844 C 18.636719 12.226562 18.496094 12.480469 18.5 12.75 L 18.5 17.75 C 18.5 19 17.5 20 16.25 20 L 6.25 20 C 5 20 4 19 4 17.75 L 4 7.75 C 4 6.5 5 5.5 6.25 5.5 L 11.25 5.5 C 11.519531 5.503906 11.773438 5.363281 11.910156 5.128906 C 12.042969 4.894531 12.042969 4.605469 11.910156 4.371094 C 11.773438 4.136719 11.519531 3.996094 11.25 4 Z M 6.25 4 \" style=\" stroke:none;fill-rule:nonzero;fill:rgb(28.235295%,28.627452%,29.019609%);fill-opacity:1;\"></path>\n",
       "</g>\n",
       "</svg>\n",
       "</span>\n",
       "</li>\n",
       "</ul>\n",
       "<div class=\"nav_grp_footer\">\n",
       "<a class=\"footer-link\" data-hover=\"Feedback\" href=\"https://submit.espncricinfo.com/ci/content/submit/forms/feedback.html\" rel=\"\" target=\"_parent\">Feedback</a>\n",
       "<a class=\"footer-link\" data-hover=\"Sitemap\" href=\"https://www.espncricinfo.com/ci/content/page/866033.html\" rel=\"\" target=\"_parent\">Sitemap</a>\n",
       "<a class=\"footer-link\" data-hover=\"About us\" href=\"https://www.espncricinfo.com/ci/content/page/156066.html\" rel=\"\" target=\"_parent\">About us</a>\n",
       "<a class=\"footer-link\" data-hover=\"Contact us\" href=\"https://www.espncricinfo.com/ci/content/page/156050.html\" rel=\"\" target=\"_parent\">Contact us</a>\n",
       "<a class=\"footer-link\" data-hover=\"Careers\" href=\"https://india.disneycareers.com/en/search-jobs/advanced-search\" rel=\"\" target=\"_parent\">Careers</a>\n",
       "<a class=\"footer-link\" data-hover=\"About Nielsen Measurement\" href=\"https://www.nielsen.com/us/en/legal/privacy-statement/digital-measurement\" rel=\"\" target=\"_parent\">About Nielsen Measurement</a>\n",
       "</div>\n",
       "</div>\n",
       "</li>\n",
       "<li class=\"nav_grpitm nav_grp_srch\" id=\"nav_serach_logo\">\n",
       "<div class=\"nav_grpico\">\n",
       "<span class=\"sp sp_srch1\"></span>\n",
       "<span class=\"nav_txt\">Search</span>\n",
       "</div>\n",
       "<div class=\"nav_search_form\" id=\"nav_search\">\n",
       "<form class=\"search-form\" id=\"cric_search\">\n",
       "<input autocomplete=\"off\" name=\"q\" placeholder=\"Search Series, Teams or Players...\" spellcheck=\"false\" type=\"text\"/>\n",
       "<button type=\"submit\"><i class=\"sp icon-search\"></i>\n",
       "</button>\n",
       "</form>\n",
       "</div>\n",
       "</li>\n",
       "</ul>\n",
       "</nav>\n",
       "</div>"
      ]
     },
     "execution_count": 8,
     "metadata": {},
     "output_type": "execute_result"
    }
   ],
   "source": [
    "read.div"
   ]
  },
  {
   "cell_type": "markdown",
   "id": "bright-pharmacology",
   "metadata": {
    "papermill": {
     "duration": 0.041082,
     "end_time": "2021-04-10T19:02:04.102168",
     "exception": false,
     "start_time": "2021-04-10T19:02:04.061086",
     "status": "completed"
    },
    "tags": []
   },
   "source": [
    "#### First we find the divider class beacuse can't work without mentioning the class name.**"
   ]
  },
  {
   "cell_type": "code",
   "execution_count": 9,
   "id": "stupid-hanging",
   "metadata": {
    "execution": {
     "iopub.execute_input": "2021-04-10T19:02:04.185734Z",
     "iopub.status.busy": "2021-04-10T19:02:04.185124Z",
     "iopub.status.idle": "2021-04-10T19:02:04.196857Z",
     "shell.execute_reply": "2021-04-10T19:02:04.197312Z"
    },
    "papermill": {
     "duration": 0.05509,
     "end_time": "2021-04-10T19:02:04.197493",
     "exception": false,
     "start_time": "2021-04-10T19:02:04.142403",
     "status": "completed"
    },
    "tags": []
   },
   "outputs": [],
   "source": [
    "div = read.find_all(\"div\", class_= \"ciPhotoContainer\")"
   ]
  },
  {
   "cell_type": "code",
   "execution_count": 10,
   "id": "french-result",
   "metadata": {
    "execution": {
     "iopub.execute_input": "2021-04-10T19:02:04.285080Z",
     "iopub.status.busy": "2021-04-10T19:02:04.284456Z",
     "iopub.status.idle": "2021-04-10T19:02:04.287099Z",
     "shell.execute_reply": "2021-04-10T19:02:04.287600Z"
    },
    "papermill": {
     "duration": 0.049146,
     "end_time": "2021-04-10T19:02:04.287763",
     "exception": false,
     "start_time": "2021-04-10T19:02:04.238617",
     "status": "completed"
    },
    "tags": []
   },
   "outputs": [
    {
     "data": {
      "text/plain": [
       "1"
      ]
     },
     "execution_count": 10,
     "metadata": {},
     "output_type": "execute_result"
    }
   ],
   "source": [
    "len(div)"
   ]
  },
  {
   "cell_type": "markdown",
   "id": "characteristic-meditation",
   "metadata": {
    "papermill": {
     "duration": 0.041138,
     "end_time": "2021-04-10T19:02:04.370145",
     "exception": false,
     "start_time": "2021-04-10T19:02:04.329007",
     "status": "completed"
    },
    "tags": []
   },
   "source": [
    "1. * click on **ICC Test Championship** on the webpage of Ranking Section **Right Clicking** on the mouse then go to **Inspect Element* see ICC Test Championship is in h3 tag. "
   ]
  },
  {
   "cell_type": "code",
   "execution_count": 11,
   "id": "assigned-stupid",
   "metadata": {
    "execution": {
     "iopub.execute_input": "2021-04-10T19:02:04.453869Z",
     "iopub.status.busy": "2021-04-10T19:02:04.453233Z",
     "iopub.status.idle": "2021-04-10T19:02:04.458518Z",
     "shell.execute_reply": "2021-04-10T19:02:04.457887Z"
    },
    "papermill": {
     "duration": 0.048178,
     "end_time": "2021-04-10T19:02:04.458658",
     "exception": false,
     "start_time": "2021-04-10T19:02:04.410480",
     "status": "completed"
    },
    "tags": []
   },
   "outputs": [
    {
     "data": {
      "text/plain": [
       "'ICC Test Championship'"
      ]
     },
     "execution_count": 11,
     "metadata": {},
     "output_type": "execute_result"
    }
   ],
   "source": [
    "div[0].h3.text"
   ]
  },
  {
   "cell_type": "markdown",
   "id": "editorial-spoke",
   "metadata": {
    "papermill": {
     "duration": 0.041864,
     "end_time": "2021-04-10T19:02:04.542961",
     "exception": false,
     "start_time": "2021-04-10T19:02:04.501097",
     "status": "completed"
    },
    "tags": []
   },
   "source": [
    "* We can find all h3 tags through **find_all** function."
   ]
  },
  {
   "cell_type": "code",
   "execution_count": 12,
   "id": "architectural-diameter",
   "metadata": {
    "execution": {
     "iopub.execute_input": "2021-04-10T19:02:04.633686Z",
     "iopub.status.busy": "2021-04-10T19:02:04.632731Z",
     "iopub.status.idle": "2021-04-10T19:02:04.636546Z",
     "shell.execute_reply": "2021-04-10T19:02:04.636065Z"
    },
    "papermill": {
     "duration": 0.05186,
     "end_time": "2021-04-10T19:02:04.636683",
     "exception": false,
     "start_time": "2021-04-10T19:02:04.584823",
     "status": "completed"
    },
    "tags": []
   },
   "outputs": [
    {
     "data": {
      "text/plain": [
       "[<h3>ICC Test Championship</h3>,\n",
       " <h3>ICC ODI Championship</h3>,\n",
       " <h3>ICC Twenty20 Rankings</h3>,\n",
       " <h3>ICC Women's ODI Team Rankings</h3>,\n",
       " <h3>ICC Women's T20 Team Rankings</h3>]"
      ]
     },
     "execution_count": 12,
     "metadata": {},
     "output_type": "execute_result"
    }
   ],
   "source": [
    "div[0].find_all(\"h3\")"
   ]
  },
  {
   "cell_type": "code",
   "execution_count": 13,
   "id": "charming-dallas",
   "metadata": {
    "execution": {
     "iopub.execute_input": "2021-04-10T19:02:04.729565Z",
     "iopub.status.busy": "2021-04-10T19:02:04.728911Z",
     "iopub.status.idle": "2021-04-10T19:02:04.732741Z",
     "shell.execute_reply": "2021-04-10T19:02:04.732173Z"
    },
    "papermill": {
     "duration": 0.05347,
     "end_time": "2021-04-10T19:02:04.732868",
     "exception": false,
     "start_time": "2021-04-10T19:02:04.679398",
     "status": "completed"
    },
    "tags": []
   },
   "outputs": [
    {
     "data": {
      "text/plain": [
       "[<h3>ICC Test Championship</h3>,\n",
       " <h3>ICC ODI Championship</h3>,\n",
       " <h3>ICC Twenty20 Rankings</h3>,\n",
       " <h3>ICC Women's ODI Team Rankings</h3>,\n",
       " <h3>ICC Women's T20 Team Rankings</h3>]"
      ]
     },
     "execution_count": 13,
     "metadata": {},
     "output_type": "execute_result"
    }
   ],
   "source": [
    "cric_formats = div[0].find_all(\"h3\")\n",
    "cric_formats"
   ]
  },
  {
   "cell_type": "markdown",
   "id": "outstanding-glenn",
   "metadata": {
    "papermill": {
     "duration": 0.043178,
     "end_time": "2021-04-10T19:02:04.819340",
     "exception": false,
     "start_time": "2021-04-10T19:02:04.776162",
     "status": "completed"
    },
    "tags": []
   },
   "source": [
    "**text** function only gives original text remove tags."
   ]
  },
  {
   "cell_type": "code",
   "execution_count": 14,
   "id": "tender-dispute",
   "metadata": {
    "execution": {
     "iopub.execute_input": "2021-04-10T19:02:04.910281Z",
     "iopub.status.busy": "2021-04-10T19:02:04.909491Z",
     "iopub.status.idle": "2021-04-10T19:02:04.912807Z",
     "shell.execute_reply": "2021-04-10T19:02:04.913262Z"
    },
    "papermill": {
     "duration": 0.051357,
     "end_time": "2021-04-10T19:02:04.913447",
     "exception": false,
     "start_time": "2021-04-10T19:02:04.862090",
     "status": "completed"
    },
    "tags": []
   },
   "outputs": [
    {
     "name": "stdout",
     "output_type": "stream",
     "text": [
      "ICC Test Championship\n",
      "ICC ODI Championship\n",
      "ICC Twenty20 Rankings\n",
      "ICC Women's ODI Team Rankings\n",
      "ICC Women's T20 Team Rankings\n"
     ]
    }
   ],
   "source": [
    "for i in cric_formats:\n",
    "    print(i.text)"
   ]
  },
  {
   "cell_type": "markdown",
   "id": "conditional-harvard",
   "metadata": {
    "papermill": {
     "duration": 0.042443,
     "end_time": "2021-04-10T19:02:04.998335",
     "exception": false,
     "start_time": "2021-04-10T19:02:04.955892",
     "status": "completed"
    },
    "tags": []
   },
   "source": [
    "### save test table to give attribute table."
   ]
  },
  {
   "cell_type": "code",
   "execution_count": 15,
   "id": "loaded-threat",
   "metadata": {
    "execution": {
     "iopub.execute_input": "2021-04-10T19:02:05.103188Z",
     "iopub.status.busy": "2021-04-10T19:02:05.102170Z",
     "iopub.status.idle": "2021-04-10T19:02:05.106993Z",
     "shell.execute_reply": "2021-04-10T19:02:05.106378Z"
    },
    "papermill": {
     "duration": 0.065814,
     "end_time": "2021-04-10T19:02:05.107127",
     "exception": false,
     "start_time": "2021-04-10T19:02:05.041313",
     "status": "completed"
    },
    "tags": []
   },
   "outputs": [
    {
     "data": {
      "text/plain": [
       "<table class=\"StoryengineTable\">\n",
       "<caption>02 April 2021</caption>\n",
       "<tr class=\"head\">\n",
       "<th class=\"left\">Pos</th>\n",
       "<th class=\"left\">Team</th>\n",
       "<th class=\"left\">Matches</th>\n",
       "<th class=\"left\">Points</th>\n",
       "<th class=\"left\">Rating</th>\n",
       "</tr>\n",
       "<tr>\n",
       "<td class=\"left\">1</td>\n",
       "<td class=\"left\">India</td>\n",
       "<td class=\"left\">37</td>\n",
       "<td class=\"left\">4455</td>\n",
       "<td class=\"left\">120</td>\n",
       "</tr>\n",
       "<tr>\n",
       "<td class=\"left\">2</td>\n",
       "<td class=\"left\">New Zealand</td>\n",
       "<td class=\"left\">27</td>\n",
       "<td class=\"left\">3198</td>\n",
       "<td class=\"left\">118</td>\n",
       "</tr>\n",
       "<tr>\n",
       "<td class=\"left\">3</td>\n",
       "<td class=\"left\">Australia</td>\n",
       "<td class=\"left\">31</td>\n",
       "<td class=\"left\">3498</td>\n",
       "<td class=\"left\">113</td>\n",
       "</tr>\n",
       "<tr>\n",
       "<td class=\"left\">4</td>\n",
       "<td class=\"left\">England</td>\n",
       "<td class=\"left\">49</td>\n",
       "<td class=\"left\">5174</td>\n",
       "<td class=\"left\">106</td>\n",
       "</tr>\n",
       "<tr>\n",
       "<td class=\"left\">5</td>\n",
       "<td class=\"left\">Pakistan</td>\n",
       "<td class=\"left\">26</td>\n",
       "<td class=\"left\">2328</td>\n",
       "<td class=\"left\">90</td>\n",
       "</tr>\n",
       "<tr>\n",
       "<td class=\"left\">6</td>\n",
       "<td class=\"left\">South Africa</td>\n",
       "<td class=\"left\">29</td>\n",
       "<td class=\"left\">2595</td>\n",
       "<td class=\"left\">89</td>\n",
       "</tr>\n",
       "<tr>\n",
       "<td class=\"left\">7</td>\n",
       "<td class=\"left\">Sri Lanka</td>\n",
       "<td class=\"left\">36</td>\n",
       "<td class=\"left\">2982</td>\n",
       "<td class=\"left\">83</td>\n",
       "</tr>\n",
       "<tr>\n",
       "<td class=\"left\">8</td>\n",
       "<td class=\"left\">West Indies</td>\n",
       "<td class=\"left\">31</td>\n",
       "<td class=\"left\">2501</td>\n",
       "<td class=\"left\">81</td>\n",
       "</tr>\n",
       "<tr>\n",
       "<td class=\"left\">9</td>\n",
       "<td class=\"left\">Bangladesh</td>\n",
       "<td class=\"left\">20</td>\n",
       "<td class=\"left\">1020</td>\n",
       "<td class=\"left\">51</td>\n",
       "</tr>\n",
       "<tr>\n",
       "<td class=\"left\">10</td>\n",
       "<td class=\"left\">Afghanistan</td>\n",
       "<td class=\"left\">6</td>\n",
       "<td class=\"left\">224</td>\n",
       "<td class=\"left\">37</td>\n",
       "</tr>\n",
       "<tr>\n",
       "<td class=\"left\">11</td>\n",
       "<td class=\"left\">Zimbabwe</td>\n",
       "<td class=\"left\">11</td>\n",
       "<td class=\"left\">315</td>\n",
       "<td class=\"left\">29</td>\n",
       "</tr>\n",
       "<tr>\n",
       "<td class=\"left\">12</td>\n",
       "<td class=\"left\">Ireland</td>\n",
       "<td class=\"left\">2</td>\n",
       "<td class=\"left\">0</td>\n",
       "<td class=\"left\">0</td>\n",
       "</tr>\n",
       "</table>"
      ]
     },
     "execution_count": 15,
     "metadata": {},
     "output_type": "execute_result"
    }
   ],
   "source": [
    "test_tables = read.table\n",
    "test_tables"
   ]
  },
  {
   "cell_type": "markdown",
   "id": "recorded-tooth",
   "metadata": {
    "papermill": {
     "duration": 0.043541,
     "end_time": "2021-04-10T19:02:05.195035",
     "exception": false,
     "start_time": "2021-04-10T19:02:05.151494",
     "status": "completed"
    },
    "tags": []
   },
   "source": [
    " * Find all tables with the help of **find_all** attribute and give class which is mandatory."
   ]
  },
  {
   "cell_type": "markdown",
   "id": "floral-drinking",
   "metadata": {
    "papermill": {
     "duration": 0.046095,
     "end_time": "2021-04-10T19:02:05.284964",
     "exception": false,
     "start_time": "2021-04-10T19:02:05.238869",
     "status": "completed"
    },
    "tags": []
   },
   "source": [
    "### All five tables of ranking are save in the variable."
   ]
  },
  {
   "cell_type": "markdown",
   "id": "intended-nitrogen",
   "metadata": {
    "papermill": {
     "duration": 0.056296,
     "end_time": "2021-04-10T19:02:05.395491",
     "exception": false,
     "start_time": "2021-04-10T19:02:05.339195",
     "status": "completed"
    },
    "tags": []
   },
   "source": [
    "#### Without mentioning table **class** we cannot find the table we want."
   ]
  },
  {
   "cell_type": "code",
   "execution_count": 16,
   "id": "integral-manhattan",
   "metadata": {
    "execution": {
     "iopub.execute_input": "2021-04-10T19:02:05.507878Z",
     "iopub.status.busy": "2021-04-10T19:02:05.507211Z",
     "iopub.status.idle": "2021-04-10T19:02:05.510530Z",
     "shell.execute_reply": "2021-04-10T19:02:05.509968Z"
    },
    "papermill": {
     "duration": 0.070038,
     "end_time": "2021-04-10T19:02:05.510657",
     "exception": false,
     "start_time": "2021-04-10T19:02:05.440619",
     "status": "completed"
    },
    "tags": []
   },
   "outputs": [],
   "source": [
    "all_tables = read.find_all(\"table\" ,  class_=\"StoryengineTable\")"
   ]
  },
  {
   "cell_type": "code",
   "execution_count": 17,
   "id": "convinced-construction",
   "metadata": {
    "execution": {
     "iopub.execute_input": "2021-04-10T19:02:05.615865Z",
     "iopub.status.busy": "2021-04-10T19:02:05.614948Z",
     "iopub.status.idle": "2021-04-10T19:02:05.619985Z",
     "shell.execute_reply": "2021-04-10T19:02:05.619431Z"
    },
    "papermill": {
     "duration": 0.062213,
     "end_time": "2021-04-10T19:02:05.620111",
     "exception": false,
     "start_time": "2021-04-10T19:02:05.557898",
     "status": "completed"
    },
    "tags": []
   },
   "outputs": [
    {
     "data": {
      "text/plain": [
       "5"
      ]
     },
     "execution_count": 17,
     "metadata": {},
     "output_type": "execute_result"
    }
   ],
   "source": [
    "len(all_tables)"
   ]
  },
  {
   "cell_type": "markdown",
   "id": "serious-parcel",
   "metadata": {
    "papermill": {
     "duration": 0.044413,
     "end_time": "2021-04-10T19:02:05.709378",
     "exception": false,
     "start_time": "2021-04-10T19:02:05.664965",
     "status": "completed"
    },
    "tags": []
   },
   "source": [
    "### The ODI table is at index 1."
   ]
  },
  {
   "cell_type": "code",
   "execution_count": 18,
   "id": "based-backing",
   "metadata": {
    "execution": {
     "iopub.execute_input": "2021-04-10T19:02:05.803826Z",
     "iopub.status.busy": "2021-04-10T19:02:05.803168Z",
     "iopub.status.idle": "2021-04-10T19:02:05.806540Z",
     "shell.execute_reply": "2021-04-10T19:02:05.805932Z"
    },
    "papermill": {
     "duration": 0.052795,
     "end_time": "2021-04-10T19:02:05.806672",
     "exception": false,
     "start_time": "2021-04-10T19:02:05.753877",
     "status": "completed"
    },
    "tags": []
   },
   "outputs": [],
   "source": [
    "odis = all_tables[1]"
   ]
  },
  {
   "cell_type": "markdown",
   "id": "civic-seven",
   "metadata": {
    "papermill": {
     "duration": 0.045458,
     "end_time": "2021-04-10T19:02:05.899784",
     "exception": false,
     "start_time": "2021-04-10T19:02:05.854326",
     "status": "completed"
    },
    "tags": []
   },
   "source": [
    "###  "
   ]
  },
  {
   "cell_type": "markdown",
   "id": "effective-corporation",
   "metadata": {
    "papermill": {
     "duration": 0.044324,
     "end_time": "2021-04-10T19:02:05.989802",
     "exception": false,
     "start_time": "2021-04-10T19:02:05.945478",
     "status": "completed"
    },
    "tags": []
   },
   "source": [
    "### Find Column Name from \"th\" tag."
   ]
  },
  {
   "cell_type": "code",
   "execution_count": 19,
   "id": "architectural-toddler",
   "metadata": {
    "execution": {
     "iopub.execute_input": "2021-04-10T19:02:06.089278Z",
     "iopub.status.busy": "2021-04-10T19:02:06.088681Z",
     "iopub.status.idle": "2021-04-10T19:02:06.091699Z",
     "shell.execute_reply": "2021-04-10T19:02:06.091160Z"
    },
    "papermill": {
     "duration": 0.054058,
     "end_time": "2021-04-10T19:02:06.091829",
     "exception": false,
     "start_time": "2021-04-10T19:02:06.037771",
     "status": "completed"
    },
    "tags": []
   },
   "outputs": [],
   "source": [
    "col = []\n",
    "for i in odis.find_all(\"th\"):\n",
    "    col.append(i.text)"
   ]
  },
  {
   "cell_type": "code",
   "execution_count": 20,
   "id": "suburban-jesus",
   "metadata": {
    "execution": {
     "iopub.execute_input": "2021-04-10T19:02:06.185696Z",
     "iopub.status.busy": "2021-04-10T19:02:06.184669Z",
     "iopub.status.idle": "2021-04-10T19:02:06.188869Z",
     "shell.execute_reply": "2021-04-10T19:02:06.188231Z"
    },
    "papermill": {
     "duration": 0.052781,
     "end_time": "2021-04-10T19:02:06.189024",
     "exception": false,
     "start_time": "2021-04-10T19:02:06.136243",
     "status": "completed"
    },
    "tags": []
   },
   "outputs": [
    {
     "data": {
      "text/plain": [
       "['Pos', 'Team', 'Matches', 'Points', 'Rating']"
      ]
     },
     "execution_count": 20,
     "metadata": {},
     "output_type": "execute_result"
    }
   ],
   "source": [
    "col"
   ]
  },
  {
   "cell_type": "markdown",
   "id": "expected-satisfaction",
   "metadata": {
    "papermill": {
     "duration": 0.045004,
     "end_time": "2021-04-10T19:02:06.279310",
     "exception": false,
     "start_time": "2021-04-10T19:02:06.234306",
     "status": "completed"
    },
    "tags": []
   },
   "source": [
    "* td tag -> stand for table data.\n",
    "* th tag -> stand for table header.\n",
    "* tr tag -> stand for table row."
   ]
  },
  {
   "cell_type": "code",
   "execution_count": 21,
   "id": "narrative-elevation",
   "metadata": {
    "execution": {
     "iopub.execute_input": "2021-04-10T19:02:06.377552Z",
     "iopub.status.busy": "2021-04-10T19:02:06.376915Z",
     "iopub.status.idle": "2021-04-10T19:02:06.380607Z",
     "shell.execute_reply": "2021-04-10T19:02:06.381033Z"
    },
    "papermill": {
     "duration": 0.057241,
     "end_time": "2021-04-10T19:02:06.381198",
     "exception": false,
     "start_time": "2021-04-10T19:02:06.323957",
     "status": "completed"
    },
    "tags": []
   },
   "outputs": [
    {
     "data": {
      "text/plain": [
       "[<td class=\"left\">1</td>,\n",
       " <td class=\"left\">England</td>,\n",
       " <td class=\"left\">47</td>,\n",
       " <td class=\"left\">5708</td>,\n",
       " <td class=\"left\">121</td>,\n",
       " <td class=\"left\">2</td>,\n",
       " <td class=\"left\">India</td>,\n",
       " <td class=\"left\">55</td>,\n",
       " <td class=\"left\">6520</td>,\n",
       " <td class=\"left\">119</td>,\n",
       " <td class=\"left\">3</td>,\n",
       " <td class=\"left\">New Zealand</td>,\n",
       " <td class=\"left\">35</td>,\n",
       " <td class=\"left\">4137</td>,\n",
       " <td class=\"left\">118</td>,\n",
       " <td class=\"left\">4</td>,\n",
       " <td class=\"left\">Australia</td>,\n",
       " <td class=\"left\">39</td>,\n",
       " <td class=\"left\">4344</td>,\n",
       " <td class=\"left\">111</td>,\n",
       " <td class=\"left\">5</td>,\n",
       " <td class=\"left\">South Africa</td>,\n",
       " <td class=\"left\">34</td>,\n",
       " <td class=\"left\">3596</td>,\n",
       " <td class=\"left\">106</td>,\n",
       " <td class=\"left\">6</td>,\n",
       " <td class=\"left\">Pakistan</td>,\n",
       " <td class=\"left\">38</td>,\n",
       " <td class=\"left\">3861</td>,\n",
       " <td class=\"left\">102</td>,\n",
       " <td class=\"left\">7</td>,\n",
       " <td class=\"left\">Bangladesh</td>,\n",
       " <td class=\"left\">40</td>,\n",
       " <td class=\"left\">3567</td>,\n",
       " <td class=\"left\">89</td>,\n",
       " <td class=\"left\">8</td>,\n",
       " <td class=\"left\">Sri Lanka</td>,\n",
       " <td class=\"left\">42</td>,\n",
       " <td class=\"left\">3372</td>,\n",
       " <td class=\"left\">80</td>,\n",
       " <td class=\"left\">9</td>,\n",
       " <td class=\"left\">West Indies</td>,\n",
       " <td class=\"left\">49</td>,\n",
       " <td class=\"left\">3802</td>,\n",
       " <td class=\"left\">78</td>,\n",
       " <td class=\"left\">10</td>,\n",
       " <td class=\"left\">Afghanistan</td>,\n",
       " <td class=\"left\">31</td>,\n",
       " <td class=\"left\">1844</td>,\n",
       " <td class=\"left\">59</td>,\n",
       " <td class=\"left\">11</td>,\n",
       " <td class=\"left\">Ireland</td>,\n",
       " <td class=\"left\">29</td>,\n",
       " <td class=\"left\">1316</td>,\n",
       " <td class=\"left\">45</td>,\n",
       " <td class=\"left\">12</td>,\n",
       " <td class=\"left\">Netherlands</td>,\n",
       " <td class=\"left\">5</td>,\n",
       " <td class=\"left\">222</td>,\n",
       " <td class=\"left\">44</td>,\n",
       " <td class=\"left\">13</td>,\n",
       " <td class=\"left\">Zimbabwe</td>,\n",
       " <td class=\"left\">27</td>,\n",
       " <td class=\"left\">1121</td>,\n",
       " <td class=\"left\">42</td>,\n",
       " <td class=\"left\">14</td>,\n",
       " <td class=\"left\">Oman</td>,\n",
       " <td class=\"left\">12</td>,\n",
       " <td class=\"left\">479</td>,\n",
       " <td class=\"left\">40</td>,\n",
       " <td class=\"left\">15</td>,\n",
       " <td class=\"left\">Scotland</td>,\n",
       " <td class=\"left\">16</td>,\n",
       " <td class=\"left\">419</td>,\n",
       " <td class=\"left\">26</td>,\n",
       " <td class=\"left\">16</td>,\n",
       " <td class=\"left\">UAE</td>,\n",
       " <td class=\"left\">17</td>,\n",
       " <td class=\"left\">360</td>,\n",
       " <td class=\"left\">21</td>,\n",
       " <td class=\"left\">17</td>,\n",
       " <td class=\"left\">Nepal</td>,\n",
       " <td class=\"left\">9</td>,\n",
       " <td class=\"left\">161</td>,\n",
       " <td class=\"left\">18</td>,\n",
       " <td class=\"left\">18</td>,\n",
       " <td class=\"left\">Namibia</td>,\n",
       " <td class=\"left\">9</td>,\n",
       " <td class=\"left\">152</td>,\n",
       " <td class=\"left\">17</td>,\n",
       " <td class=\"left\">19</td>,\n",
       " <td class=\"left\">USA</td>,\n",
       " <td class=\"left\">14</td>,\n",
       " <td class=\"left\">185</td>,\n",
       " <td class=\"left\">13</td>,\n",
       " <td class=\"left\">20</td>,\n",
       " <td class=\"left\">PNG</td>,\n",
       " <td class=\"left\">14</td>,\n",
       " <td class=\"left\">0</td>,\n",
       " <td class=\"left\">0</td>]"
      ]
     },
     "execution_count": 21,
     "metadata": {},
     "output_type": "execute_result"
    }
   ],
   "source": [
    "table_data = odis.find_all(\"td\")\n",
    "table_data"
   ]
  },
  {
   "cell_type": "code",
   "execution_count": 22,
   "id": "domestic-federation",
   "metadata": {
    "execution": {
     "iopub.execute_input": "2021-04-10T19:02:06.479085Z",
     "iopub.status.busy": "2021-04-10T19:02:06.478508Z",
     "iopub.status.idle": "2021-04-10T19:02:06.481768Z",
     "shell.execute_reply": "2021-04-10T19:02:06.481279Z"
    },
    "papermill": {
     "duration": 0.054783,
     "end_time": "2021-04-10T19:02:06.481894",
     "exception": false,
     "start_time": "2021-04-10T19:02:06.427111",
     "status": "completed"
    },
    "tags": []
   },
   "outputs": [],
   "source": [
    "table_list = []\n",
    "start = 0\n",
    "end = 5\n",
    "\n",
    "for i in range(20):\n",
    "    Pos,Team, Matches,Points,Rating = table_data[start:end]\n",
    "    table_list.append([Pos.text,Team.text, Matches.text,Points.text,Rating.text])\n",
    "    start += 5\n",
    "    end +=5\n",
    "    \n",
    "    "
   ]
  },
  {
   "cell_type": "markdown",
   "id": "boxed-outreach",
   "metadata": {
    "papermill": {
     "duration": 0.045649,
     "end_time": "2021-04-10T19:02:06.573278",
     "exception": false,
     "start_time": "2021-04-10T19:02:06.527629",
     "status": "completed"
    },
    "tags": []
   },
   "source": [
    "## Now see data is in list of list foam. Now we can put into Data Frame So that it looks good ."
   ]
  },
  {
   "cell_type": "code",
   "execution_count": 23,
   "id": "cleared-singapore",
   "metadata": {
    "execution": {
     "iopub.execute_input": "2021-04-10T19:02:06.671663Z",
     "iopub.status.busy": "2021-04-10T19:02:06.670970Z",
     "iopub.status.idle": "2021-04-10T19:02:06.675136Z",
     "shell.execute_reply": "2021-04-10T19:02:06.674568Z"
    },
    "papermill": {
     "duration": 0.056164,
     "end_time": "2021-04-10T19:02:06.675265",
     "exception": false,
     "start_time": "2021-04-10T19:02:06.619101",
     "status": "completed"
    },
    "tags": []
   },
   "outputs": [
    {
     "data": {
      "text/plain": [
       "[['1', 'England', '47', '5708', '121'],\n",
       " ['2', 'India', '55', '6520', '119'],\n",
       " ['3', 'New Zealand', '35', '4137', '118'],\n",
       " ['4', 'Australia', '39', '4344', '111'],\n",
       " ['5', 'South Africa', '34', '3596', '106'],\n",
       " ['6', 'Pakistan', '38', '3861', '102'],\n",
       " ['7', 'Bangladesh', '40', '3567', '89'],\n",
       " ['8', 'Sri Lanka', '42', '3372', '80'],\n",
       " ['9', 'West Indies', '49', '3802', '78'],\n",
       " ['10', 'Afghanistan', '31', '1844', '59'],\n",
       " ['11', 'Ireland', '29', '1316', '45'],\n",
       " ['12', 'Netherlands', '5', '222', '44'],\n",
       " ['13', 'Zimbabwe', '27', '1121', '42'],\n",
       " ['14', 'Oman', '12', '479', '40'],\n",
       " ['15', 'Scotland', '16', '419', '26'],\n",
       " ['16', 'UAE', '17', '360', '21'],\n",
       " ['17', 'Nepal', '9', '161', '18'],\n",
       " ['18', 'Namibia', '9', '152', '17'],\n",
       " ['19', 'USA', '14', '185', '13'],\n",
       " ['20', 'PNG', '14', '0', '0']]"
      ]
     },
     "execution_count": 23,
     "metadata": {},
     "output_type": "execute_result"
    }
   ],
   "source": [
    "table_list"
   ]
  },
  {
   "cell_type": "code",
   "execution_count": 24,
   "id": "organic-wheel",
   "metadata": {
    "execution": {
     "iopub.execute_input": "2021-04-10T19:02:06.772271Z",
     "iopub.status.busy": "2021-04-10T19:02:06.771664Z",
     "iopub.status.idle": "2021-04-10T19:02:06.775797Z",
     "shell.execute_reply": "2021-04-10T19:02:06.775240Z"
    },
    "papermill": {
     "duration": 0.054283,
     "end_time": "2021-04-10T19:02:06.775925",
     "exception": false,
     "start_time": "2021-04-10T19:02:06.721642",
     "status": "completed"
    },
    "tags": []
   },
   "outputs": [
    {
     "data": {
      "text/plain": [
       "'07 April 2021'"
      ]
     },
     "execution_count": 24,
     "metadata": {},
     "output_type": "execute_result"
    }
   ],
   "source": [
    "date = odis.caption.text\n",
    "date"
   ]
  },
  {
   "cell_type": "code",
   "execution_count": 25,
   "id": "printable-friday",
   "metadata": {
    "execution": {
     "iopub.execute_input": "2021-04-10T19:02:06.897385Z",
     "iopub.status.busy": "2021-04-10T19:02:06.896437Z",
     "iopub.status.idle": "2021-04-10T19:02:06.900625Z",
     "shell.execute_reply": "2021-04-10T19:02:06.899779Z"
    },
    "papermill": {
     "duration": 0.077927,
     "end_time": "2021-04-10T19:02:06.900837",
     "exception": false,
     "start_time": "2021-04-10T19:02:06.822910",
     "status": "completed"
    },
    "tags": []
   },
   "outputs": [],
   "source": [
    "odi_ranking = pd.DataFrame(table_list , columns=col)\n",
    "odi_ranking.name = '04 April 2021'"
   ]
  },
  {
   "cell_type": "markdown",
   "id": "extra-lawrence",
   "metadata": {
    "papermill": {
     "duration": 0.047006,
     "end_time": "2021-04-10T19:02:07.003506",
     "exception": false,
     "start_time": "2021-04-10T19:02:06.956500",
     "status": "completed"
    },
    "tags": []
   },
   "source": [
    "###  ICC ODI Championship Ranking."
   ]
  },
  {
   "cell_type": "code",
   "execution_count": 26,
   "id": "minimal-apple",
   "metadata": {
    "execution": {
     "iopub.execute_input": "2021-04-10T19:02:07.103881Z",
     "iopub.status.busy": "2021-04-10T19:02:07.103270Z",
     "iopub.status.idle": "2021-04-10T19:02:07.123804Z",
     "shell.execute_reply": "2021-04-10T19:02:07.124618Z"
    },
    "papermill": {
     "duration": 0.074295,
     "end_time": "2021-04-10T19:02:07.124795",
     "exception": false,
     "start_time": "2021-04-10T19:02:07.050500",
     "status": "completed"
    },
    "tags": []
   },
   "outputs": [
    {
     "name": "stdout",
     "output_type": "stream",
     "text": [
      "04 April 2021\n"
     ]
    },
    {
     "data": {
      "text/html": [
       "<div>\n",
       "<style scoped>\n",
       "    .dataframe tbody tr th:only-of-type {\n",
       "        vertical-align: middle;\n",
       "    }\n",
       "\n",
       "    .dataframe tbody tr th {\n",
       "        vertical-align: top;\n",
       "    }\n",
       "\n",
       "    .dataframe thead th {\n",
       "        text-align: right;\n",
       "    }\n",
       "</style>\n",
       "<table border=\"1\" class=\"dataframe\">\n",
       "  <thead>\n",
       "    <tr style=\"text-align: right;\">\n",
       "      <th></th>\n",
       "      <th>Pos</th>\n",
       "      <th>Team</th>\n",
       "      <th>Matches</th>\n",
       "      <th>Points</th>\n",
       "      <th>Rating</th>\n",
       "    </tr>\n",
       "  </thead>\n",
       "  <tbody>\n",
       "    <tr>\n",
       "      <th>0</th>\n",
       "      <td>1</td>\n",
       "      <td>England</td>\n",
       "      <td>47</td>\n",
       "      <td>5708</td>\n",
       "      <td>121</td>\n",
       "    </tr>\n",
       "    <tr>\n",
       "      <th>1</th>\n",
       "      <td>2</td>\n",
       "      <td>India</td>\n",
       "      <td>55</td>\n",
       "      <td>6520</td>\n",
       "      <td>119</td>\n",
       "    </tr>\n",
       "    <tr>\n",
       "      <th>2</th>\n",
       "      <td>3</td>\n",
       "      <td>New Zealand</td>\n",
       "      <td>35</td>\n",
       "      <td>4137</td>\n",
       "      <td>118</td>\n",
       "    </tr>\n",
       "    <tr>\n",
       "      <th>3</th>\n",
       "      <td>4</td>\n",
       "      <td>Australia</td>\n",
       "      <td>39</td>\n",
       "      <td>4344</td>\n",
       "      <td>111</td>\n",
       "    </tr>\n",
       "    <tr>\n",
       "      <th>4</th>\n",
       "      <td>5</td>\n",
       "      <td>South Africa</td>\n",
       "      <td>34</td>\n",
       "      <td>3596</td>\n",
       "      <td>106</td>\n",
       "    </tr>\n",
       "  </tbody>\n",
       "</table>\n",
       "</div>"
      ],
      "text/plain": [
       "  Pos          Team Matches Points Rating\n",
       "0   1       England      47   5708    121\n",
       "1   2         India      55   6520    119\n",
       "2   3   New Zealand      35   4137    118\n",
       "3   4     Australia      39   4344    111\n",
       "4   5  South Africa      34   3596    106"
      ]
     },
     "execution_count": 26,
     "metadata": {},
     "output_type": "execute_result"
    }
   ],
   "source": [
    "print(odi_ranking.name)\n",
    "odi_ranking.head()"
   ]
  },
  {
   "cell_type": "code",
   "execution_count": 27,
   "id": "numerous-revelation",
   "metadata": {
    "execution": {
     "iopub.execute_input": "2021-04-10T19:02:07.241214Z",
     "iopub.status.busy": "2021-04-10T19:02:07.236091Z",
     "iopub.status.idle": "2021-04-10T19:02:07.297055Z",
     "shell.execute_reply": "2021-04-10T19:02:07.297561Z"
    },
    "papermill": {
     "duration": 0.125316,
     "end_time": "2021-04-10T19:02:07.297726",
     "exception": false,
     "start_time": "2021-04-10T19:02:07.172410",
     "status": "completed"
    },
    "tags": []
   },
   "outputs": [
    {
     "data": {
      "text/plain": [
       "<table class=\"StoryengineTable\">\n",
       "<caption>05 April 2021</caption>\n",
       "<tr class=\"head\">\n",
       "<th class=\"left\">Pos</th>\n",
       "<th class=\"left\">Team</th>\n",
       "<th class=\"left\">Matches</th>\n",
       "<th class=\"left\">Points</th>\n",
       "<th class=\"left\">Rating</th>\n",
       "</tr>\n",
       "<tr>\n",
       "<td class=\"left\">1</td>\n",
       "<td class=\"left\">England</td>\n",
       "<td class=\"left\">30</td>\n",
       "<td class=\"left\">8166</td>\n",
       "<td class=\"left\">272</td>\n",
       "</tr>\n",
       "<tr>\n",
       "<td class=\"left\">2</td>\n",
       "<td class=\"left\">India</td>\n",
       "<td class=\"left\">43</td>\n",
       "<td class=\"left\">11613</td>\n",
       "<td class=\"left\">270</td>\n",
       "</tr>\n",
       "<tr>\n",
       "<td class=\"left\">3</td>\n",
       "<td class=\"left\">Australia</td>\n",
       "<td class=\"left\">30</td>\n",
       "<td class=\"left\">8005</td>\n",
       "<td class=\"left\">267</td>\n",
       "</tr>\n",
       "<tr>\n",
       "<td class=\"left\">4</td>\n",
       "<td class=\"left\">Pakistan</td>\n",
       "<td class=\"left\">32</td>\n",
       "<td class=\"left\">8321</td>\n",
       "<td class=\"left\">260</td>\n",
       "</tr>\n",
       "<tr>\n",
       "<td class=\"left\">5</td>\n",
       "<td class=\"left\">New Zealand</td>\n",
       "<td class=\"left\">36</td>\n",
       "<td class=\"left\">9181</td>\n",
       "<td class=\"left\">255</td>\n",
       "</tr>\n",
       "<tr>\n",
       "<td class=\"left\">6</td>\n",
       "<td class=\"left\">South Africa</td>\n",
       "<td class=\"left\">23</td>\n",
       "<td class=\"left\">5776</td>\n",
       "<td class=\"left\">251</td>\n",
       "</tr>\n",
       "<tr>\n",
       "<td class=\"left\">7</td>\n",
       "<td class=\"left\">Afghanistan</td>\n",
       "<td class=\"left\">19</td>\n",
       "<td class=\"left\">4361</td>\n",
       "<td class=\"left\">230</td>\n",
       "</tr>\n",
       "<tr>\n",
       "<td class=\"left\">8</td>\n",
       "<td class=\"left\">West Indies</td>\n",
       "<td class=\"left\">29</td>\n",
       "<td class=\"left\">6623</td>\n",
       "<td class=\"left\">228</td>\n",
       "</tr>\n",
       "<tr>\n",
       "<td class=\"left\">9</td>\n",
       "<td class=\"left\">Sri Lanka</td>\n",
       "<td class=\"left\">26</td>\n",
       "<td class=\"left\">5924</td>\n",
       "<td class=\"left\">228</td>\n",
       "</tr>\n",
       "<tr>\n",
       "<td class=\"left\">10</td>\n",
       "<td class=\"left\">Bangladesh</td>\n",
       "<td class=\"left\">23</td>\n",
       "<td class=\"left\">5194</td>\n",
       "<td class=\"left\">226</td>\n",
       "</tr>\n",
       "<tr>\n",
       "<td class=\"left\">11</td>\n",
       "<td class=\"left\">Ireland</td>\n",
       "<td class=\"left\">29</td>\n",
       "<td class=\"left\">5513</td>\n",
       "<td class=\"left\">190</td>\n",
       "</tr>\n",
       "<tr>\n",
       "<td class=\"left\">12</td>\n",
       "<td class=\"left\">Zimbabwe</td>\n",
       "<td class=\"left\">23</td>\n",
       "<td class=\"left\">4341</td>\n",
       "<td class=\"left\">189</td>\n",
       "</tr>\n",
       "<tr>\n",
       "<td class=\"left\">13</td>\n",
       "<td class=\"left\">UAE</td>\n",
       "<td class=\"left\">23</td>\n",
       "<td class=\"left\">4288</td>\n",
       "<td class=\"left\">186</td>\n",
       "</tr>\n",
       "<tr>\n",
       "<td class=\"left\">14</td>\n",
       "<td class=\"left\">Scotland</td>\n",
       "<td class=\"left\">17</td>\n",
       "<td class=\"left\">3096</td>\n",
       "<td class=\"left\">182</td>\n",
       "</tr>\n",
       "<tr>\n",
       "<td class=\"left\">15</td>\n",
       "<td class=\"left\">Nepal</td>\n",
       "<td class=\"left\">23</td>\n",
       "<td class=\"left\">4148</td>\n",
       "<td class=\"left\">180</td>\n",
       "</tr>\n",
       "<tr>\n",
       "<td class=\"left\">16</td>\n",
       "<td class=\"left\">PNG</td>\n",
       "<td class=\"left\">21</td>\n",
       "<td class=\"left\">3769</td>\n",
       "<td class=\"left\">179</td>\n",
       "</tr>\n",
       "<tr>\n",
       "<td class=\"left\">17</td>\n",
       "<td class=\"left\">Netherlands</td>\n",
       "<td class=\"left\">26</td>\n",
       "<td class=\"left\">4618</td>\n",
       "<td class=\"left\">178</td>\n",
       "</tr>\n",
       "<tr>\n",
       "<td class=\"left\">18</td>\n",
       "<td class=\"left\">Oman</td>\n",
       "<td class=\"left\">18</td>\n",
       "<td class=\"left\">3169</td>\n",
       "<td class=\"left\">176</td>\n",
       "</tr>\n",
       "<tr>\n",
       "<td class=\"left\">19</td>\n",
       "<td class=\"left\">Namibia</td>\n",
       "<td class=\"left\">22</td>\n",
       "<td class=\"left\">3482</td>\n",
       "<td class=\"left\">158</td>\n",
       "</tr>\n",
       "<tr>\n",
       "<td class=\"left\">20</td>\n",
       "<td class=\"left\">Singapore</td>\n",
       "<td class=\"left\">20</td>\n",
       "<td class=\"left\">2835</td>\n",
       "<td class=\"left\">142</td>\n",
       "</tr>\n",
       "<tr>\n",
       "<td class=\"left\">21</td>\n",
       "<td class=\"left\">Canada</td>\n",
       "<td class=\"left\">15</td>\n",
       "<td class=\"left\">1956</td>\n",
       "<td class=\"left\">130</td>\n",
       "</tr>\n",
       "<tr>\n",
       "<td class=\"left\">22</td>\n",
       "<td class=\"left\">Qatar</td>\n",
       "<td class=\"left\">23</td>\n",
       "<td class=\"left\">2982</td>\n",
       "<td class=\"left\">130</td>\n",
       "</tr>\n",
       "<tr>\n",
       "<td class=\"left\">23</td>\n",
       "<td class=\"left\">Hong Kong</td>\n",
       "<td class=\"left\">23</td>\n",
       "<td class=\"left\">2727</td>\n",
       "<td class=\"left\">119</td>\n",
       "</tr>\n",
       "<tr>\n",
       "<td class=\"left\">24</td>\n",
       "<td class=\"left\">Kenya</td>\n",
       "<td class=\"left\">12</td>\n",
       "<td class=\"left\">1389</td>\n",
       "<td class=\"left\">116</td>\n",
       "</tr>\n",
       "<tr>\n",
       "<td class=\"left\">25</td>\n",
       "<td class=\"left\">Jersey</td>\n",
       "<td class=\"left\">21</td>\n",
       "<td class=\"left\">2423</td>\n",
       "<td class=\"left\">115</td>\n",
       "</tr>\n",
       "<tr>\n",
       "<td class=\"left\">26</td>\n",
       "<td class=\"left\">Kuwait</td>\n",
       "<td class=\"left\">16</td>\n",
       "<td class=\"left\">1765</td>\n",
       "<td class=\"left\">110</td>\n",
       "</tr>\n",
       "<tr>\n",
       "<td class=\"left\">27</td>\n",
       "<td class=\"left\">Italy</td>\n",
       "<td class=\"left\">10</td>\n",
       "<td class=\"left\">1100</td>\n",
       "<td class=\"left\">110</td>\n",
       "</tr>\n",
       "<tr>\n",
       "<td class=\"left\">28</td>\n",
       "<td class=\"left\">Saudi Arabia</td>\n",
       "<td class=\"left\">9</td>\n",
       "<td class=\"left\">965</td>\n",
       "<td class=\"left\">107</td>\n",
       "</tr>\n",
       "<tr>\n",
       "<td class=\"left\">29</td>\n",
       "<td class=\"left\">Denmark</td>\n",
       "<td class=\"left\">10</td>\n",
       "<td class=\"left\">975</td>\n",
       "<td class=\"left\">98</td>\n",
       "</tr>\n",
       "<tr>\n",
       "<td class=\"left\">30</td>\n",
       "<td class=\"left\">Bermuda</td>\n",
       "<td class=\"left\">13</td>\n",
       "<td class=\"left\">1202</td>\n",
       "<td class=\"left\">92</td>\n",
       "</tr>\n",
       "<tr>\n",
       "<td class=\"left\">31</td>\n",
       "<td class=\"left\">Malaysia</td>\n",
       "<td class=\"left\">29</td>\n",
       "<td class=\"left\">2557</td>\n",
       "<td class=\"left\">88</td>\n",
       "</tr>\n",
       "<tr>\n",
       "<td class=\"left\">32</td>\n",
       "<td class=\"left\">Uganda</td>\n",
       "<td class=\"left\">14</td>\n",
       "<td class=\"left\">1222</td>\n",
       "<td class=\"left\">87</td>\n",
       "</tr>\n",
       "<tr>\n",
       "<td class=\"left\">33</td>\n",
       "<td class=\"left\">Germany</td>\n",
       "<td class=\"left\">15</td>\n",
       "<td class=\"left\">1304</td>\n",
       "<td class=\"left\">87</td>\n",
       "</tr>\n",
       "<tr>\n",
       "<td class=\"left\">34</td>\n",
       "<td class=\"left\">USA</td>\n",
       "<td class=\"left\">11</td>\n",
       "<td class=\"left\">868</td>\n",
       "<td class=\"left\">79</td>\n",
       "</tr>\n",
       "<tr>\n",
       "<td class=\"left\">35</td>\n",
       "<td class=\"left\">Ghana</td>\n",
       "<td class=\"left\">10</td>\n",
       "<td class=\"left\">773</td>\n",
       "<td class=\"left\">77</td>\n",
       "</tr>\n",
       "<tr>\n",
       "<td class=\"left\">36</td>\n",
       "<td class=\"left\">Guernsey</td>\n",
       "<td class=\"left\">13</td>\n",
       "<td class=\"left\">935</td>\n",
       "<td class=\"left\">72</td>\n",
       "</tr>\n",
       "<tr>\n",
       "<td class=\"left\">37</td>\n",
       "<td class=\"left\">Botswana</td>\n",
       "<td class=\"left\">13</td>\n",
       "<td class=\"left\">934</td>\n",
       "<td class=\"left\">72</td>\n",
       "</tr>\n",
       "<tr>\n",
       "<td class=\"left\">38</td>\n",
       "<td class=\"left\">Austria</td>\n",
       "<td class=\"left\">8</td>\n",
       "<td class=\"left\">553</td>\n",
       "<td class=\"left\">69</td>\n",
       "</tr>\n",
       "<tr>\n",
       "<td class=\"left\">39</td>\n",
       "<td class=\"left\">Nigeria</td>\n",
       "<td class=\"left\">16</td>\n",
       "<td class=\"left\">1064</td>\n",
       "<td class=\"left\">67</td>\n",
       "</tr>\n",
       "<tr>\n",
       "<td class=\"left\">40</td>\n",
       "<td class=\"left\">Norway</td>\n",
       "<td class=\"left\">8</td>\n",
       "<td class=\"left\">499</td>\n",
       "<td class=\"left\">62</td>\n",
       "</tr>\n",
       "<tr>\n",
       "<td class=\"left\">41</td>\n",
       "<td class=\"left\">Romania</td>\n",
       "<td class=\"left\">10</td>\n",
       "<td class=\"left\">602</td>\n",
       "<td class=\"left\">60</td>\n",
       "</tr>\n",
       "<tr>\n",
       "<td class=\"left\">42</td>\n",
       "<td class=\"left\">Spain</td>\n",
       "<td class=\"left\">13</td>\n",
       "<td class=\"left\">766</td>\n",
       "<td class=\"left\">59</td>\n",
       "</tr>\n",
       "<tr>\n",
       "<td class=\"left\">43</td>\n",
       "<td class=\"left\">Sweden</td>\n",
       "<td class=\"left\">3</td>\n",
       "<td class=\"left\">168</td>\n",
       "<td class=\"left\">56</td>\n",
       "</tr>\n",
       "<tr>\n",
       "<td class=\"left\">44</td>\n",
       "<td class=\"left\">Tanzania</td>\n",
       "<td class=\"left\">3</td>\n",
       "<td class=\"left\">167</td>\n",
       "<td class=\"left\">56</td>\n",
       "</tr>\n",
       "<tr>\n",
       "<td class=\"left\">45</td>\n",
       "<td class=\"left\">Cayman Islands</td>\n",
       "<td class=\"left\">8</td>\n",
       "<td class=\"left\">430</td>\n",
       "<td class=\"left\">54</td>\n",
       "</tr>\n",
       "<tr>\n",
       "<td class=\"left\">46</td>\n",
       "<td class=\"left\">Argentina</td>\n",
       "<td class=\"left\">12</td>\n",
       "<td class=\"left\">610</td>\n",
       "<td class=\"left\">51</td>\n",
       "</tr>\n",
       "<tr>\n",
       "<td class=\"left\">47</td>\n",
       "<td class=\"left\">Belgium</td>\n",
       "<td class=\"left\">10</td>\n",
       "<td class=\"left\">499</td>\n",
       "<td class=\"left\">50</td>\n",
       "</tr>\n",
       "<tr>\n",
       "<td class=\"left\">48</td>\n",
       "<td class=\"left\">Philippines</td>\n",
       "<td class=\"left\">5</td>\n",
       "<td class=\"left\">241</td>\n",
       "<td class=\"left\">48</td>\n",
       "</tr>\n",
       "<tr>\n",
       "<td class=\"left\">49</td>\n",
       "<td class=\"left\">Bahrain</td>\n",
       "<td class=\"left\">9</td>\n",
       "<td class=\"left\">424</td>\n",
       "<td class=\"left\">47</td>\n",
       "</tr>\n",
       "<tr>\n",
       "<td class=\"left\">50</td>\n",
       "<td class=\"left\">Vanuatu</td>\n",
       "<td class=\"left\">15</td>\n",
       "<td class=\"left\">704</td>\n",
       "<td class=\"left\">47</td>\n",
       "</tr>\n",
       "<tr>\n",
       "<td class=\"left\">51</td>\n",
       "<td class=\"left\">Belize</td>\n",
       "<td class=\"left\">5</td>\n",
       "<td class=\"left\">209</td>\n",
       "<td class=\"left\">42</td>\n",
       "</tr>\n",
       "<tr>\n",
       "<td class=\"left\">52</td>\n",
       "<td class=\"left\">Hungary</td>\n",
       "<td class=\"left\">4</td>\n",
       "<td class=\"left\">162</td>\n",
       "<td class=\"left\">41</td>\n",
       "</tr>\n",
       "<tr>\n",
       "<td class=\"left\">53</td>\n",
       "<td class=\"left\">Malawi</td>\n",
       "<td class=\"left\">12</td>\n",
       "<td class=\"left\">476</td>\n",
       "<td class=\"left\">40</td>\n",
       "</tr>\n",
       "<tr>\n",
       "<td class=\"left\">54</td>\n",
       "<td class=\"left\">Fiji</td>\n",
       "<td class=\"left\">3</td>\n",
       "<td class=\"left\">105</td>\n",
       "<td class=\"left\">35</td>\n",
       "</tr>\n",
       "<tr>\n",
       "<td class=\"left\">55</td>\n",
       "<td class=\"left\">Peru</td>\n",
       "<td class=\"left\">9</td>\n",
       "<td class=\"left\">294</td>\n",
       "<td class=\"left\">33</td>\n",
       "</tr>\n",
       "<tr>\n",
       "<td class=\"left\">56</td>\n",
       "<td class=\"left\">Panama</td>\n",
       "<td class=\"left\">5</td>\n",
       "<td class=\"left\">162</td>\n",
       "<td class=\"left\">32</td>\n",
       "</tr>\n",
       "<tr>\n",
       "<td class=\"left\">57</td>\n",
       "<td class=\"left\">Japan</td>\n",
       "<td class=\"left\">4</td>\n",
       "<td class=\"left\">126</td>\n",
       "<td class=\"left\">32</td>\n",
       "</tr>\n",
       "<tr>\n",
       "<td class=\"left\">58</td>\n",
       "<td class=\"left\">Costa Rica</td>\n",
       "<td class=\"left\">4</td>\n",
       "<td class=\"left\">126</td>\n",
       "<td class=\"left\">32</td>\n",
       "</tr>\n",
       "<tr>\n",
       "<td class=\"left\">59</td>\n",
       "<td class=\"left\">Samoa</td>\n",
       "<td class=\"left\">7</td>\n",
       "<td class=\"left\">216</td>\n",
       "<td class=\"left\">31</td>\n",
       "</tr>\n",
       "<tr>\n",
       "<td class=\"left\">60</td>\n",
       "<td class=\"left\">Czech Republic</td>\n",
       "<td class=\"left\">16</td>\n",
       "<td class=\"left\">478</td>\n",
       "<td class=\"left\">30</td>\n",
       "</tr>\n",
       "<tr>\n",
       "<td class=\"left\">61</td>\n",
       "<td class=\"left\">Mexico</td>\n",
       "<td class=\"left\">11</td>\n",
       "<td class=\"left\">320</td>\n",
       "<td class=\"left\">29</td>\n",
       "</tr>\n",
       "<tr>\n",
       "<td class=\"left\">62</td>\n",
       "<td class=\"left\">Luxembourg</td>\n",
       "<td class=\"left\">12</td>\n",
       "<td class=\"left\">301</td>\n",
       "<td class=\"left\">25</td>\n",
       "</tr>\n",
       "<tr>\n",
       "<td class=\"left\">63</td>\n",
       "<td class=\"left\">Portugal</td>\n",
       "<td class=\"left\">7</td>\n",
       "<td class=\"left\">173</td>\n",
       "<td class=\"left\">25</td>\n",
       "</tr>\n",
       "<tr>\n",
       "<td class=\"left\">64</td>\n",
       "<td class=\"left\">Finland</td>\n",
       "<td class=\"left\">9</td>\n",
       "<td class=\"left\">204</td>\n",
       "<td class=\"left\">23</td>\n",
       "</tr>\n",
       "<tr>\n",
       "<td class=\"left\">65</td>\n",
       "<td class=\"left\">Bulgaria</td>\n",
       "<td class=\"left\">11</td>\n",
       "<td class=\"left\">240</td>\n",
       "<td class=\"left\">22</td>\n",
       "</tr>\n",
       "<tr>\n",
       "<td class=\"left\">66</td>\n",
       "<td class=\"left\">Thailand</td>\n",
       "<td class=\"left\">14</td>\n",
       "<td class=\"left\">297</td>\n",
       "<td class=\"left\">21</td>\n",
       "</tr>\n",
       "<tr>\n",
       "<td class=\"left\">67</td>\n",
       "<td class=\"left\">Isle of Man</td>\n",
       "<td class=\"left\">4</td>\n",
       "<td class=\"left\">79</td>\n",
       "<td class=\"left\">20</td>\n",
       "</tr>\n",
       "<tr>\n",
       "<td class=\"left\">68</td>\n",
       "<td class=\"left\">South Korea</td>\n",
       "<td class=\"left\">4</td>\n",
       "<td class=\"left\">78</td>\n",
       "<td class=\"left\">20</td>\n",
       "</tr>\n",
       "<tr>\n",
       "<td class=\"left\">69</td>\n",
       "<td class=\"left\">Malta</td>\n",
       "<td class=\"left\">10</td>\n",
       "<td class=\"left\">166</td>\n",
       "<td class=\"left\">17</td>\n",
       "</tr>\n",
       "<tr>\n",
       "<td class=\"left\">70</td>\n",
       "<td class=\"left\">Mozambique</td>\n",
       "<td class=\"left\">12</td>\n",
       "<td class=\"left\">173</td>\n",
       "<td class=\"left\">14</td>\n",
       "</tr>\n",
       "<tr>\n",
       "<td class=\"left\">71</td>\n",
       "<td class=\"left\">Brazil</td>\n",
       "<td class=\"left\">9</td>\n",
       "<td class=\"left\">123</td>\n",
       "<td class=\"left\">14</td>\n",
       "</tr>\n",
       "<tr>\n",
       "<td class=\"left\">72</td>\n",
       "<td class=\"left\">Bhutan</td>\n",
       "<td class=\"left\">7</td>\n",
       "<td class=\"left\">88</td>\n",
       "<td class=\"left\">13</td>\n",
       "</tr>\n",
       "<tr>\n",
       "<td class=\"left\">73</td>\n",
       "<td class=\"left\">Sierra Leone</td>\n",
       "<td class=\"left\">5</td>\n",
       "<td class=\"left\">61</td>\n",
       "<td class=\"left\">12</td>\n",
       "</tr>\n",
       "<tr>\n",
       "<td class=\"left\">74</td>\n",
       "<td class=\"left\">Maldives</td>\n",
       "<td class=\"left\">14</td>\n",
       "<td class=\"left\">138</td>\n",
       "<td class=\"left\">10</td>\n",
       "</tr>\n",
       "<tr>\n",
       "<td class=\"left\">75</td>\n",
       "<td class=\"left\">Chile</td>\n",
       "<td class=\"left\">9</td>\n",
       "<td class=\"left\">85</td>\n",
       "<td class=\"left\">9</td>\n",
       "</tr>\n",
       "<tr>\n",
       "<td class=\"left\">76</td>\n",
       "<td class=\"left\">St Helena</td>\n",
       "<td class=\"left\">6</td>\n",
       "<td class=\"left\">55</td>\n",
       "<td class=\"left\">9</td>\n",
       "</tr>\n",
       "<tr>\n",
       "<td class=\"left\">77</td>\n",
       "<td class=\"left\">Indonesia</td>\n",
       "<td class=\"left\">4</td>\n",
       "<td class=\"left\">19</td>\n",
       "<td class=\"left\">5</td>\n",
       "</tr>\n",
       "<tr>\n",
       "<td class=\"left\">78</td>\n",
       "<td class=\"left\">Myanmar</td>\n",
       "<td class=\"left\">6</td>\n",
       "<td class=\"left\">23</td>\n",
       "<td class=\"left\">4</td>\n",
       "</tr>\n",
       "<tr>\n",
       "<td class=\"left\">79</td>\n",
       "<td class=\"left\">Gibraltar</td>\n",
       "<td class=\"left\">7</td>\n",
       "<td class=\"left\">0</td>\n",
       "<td class=\"left\">0</td>\n",
       "</tr>\n",
       "<tr>\n",
       "<td class=\"left\">80</td>\n",
       "<td class=\"left\">Gambia</td>\n",
       "<td class=\"left\">6</td>\n",
       "<td class=\"left\">0</td>\n",
       "<td class=\"left\">0</td>\n",
       "</tr>\n",
       "<tr>\n",
       "<td class=\"left\">81</td>\n",
       "<td class=\"left\">China</td>\n",
       "<td class=\"left\">6</td>\n",
       "<td class=\"left\">0</td>\n",
       "<td class=\"left\">0</td>\n",
       "</tr>\n",
       "<tr>\n",
       "<td class=\"left\">82</td>\n",
       "<td class=\"left\">Turkey</td>\n",
       "<td class=\"left\">5</td>\n",
       "<td class=\"left\">0</td>\n",
       "<td class=\"left\">0</td>\n",
       "</tr>\n",
       "<tr>\n",
       "<td class=\"left\">83</td>\n",
       "<td class=\"left\">Swaziland</td>\n",
       "<td class=\"left\">3</td>\n",
       "<td class=\"left\">0</td>\n",
       "<td class=\"left\">0</td>\n",
       "</tr>\n",
       "<tr>\n",
       "<td class=\"left\">84</td>\n",
       "<td class=\"left\">Rwanda</td>\n",
       "<td class=\"left\">3</td>\n",
       "<td class=\"left\">0</td>\n",
       "<td class=\"left\">0</td>\n",
       "</tr>\n",
       "<tr>\n",
       "<td class=\"left\">85</td>\n",
       "<td class=\"left\">Lesotho</td>\n",
       "<td class=\"left\">3</td>\n",
       "<td class=\"left\">0</td>\n",
       "<td class=\"left\">0</td>\n",
       "</tr>\n",
       "</table>"
      ]
     },
     "execution_count": 27,
     "metadata": {},
     "output_type": "execute_result"
    }
   ],
   "source": [
    "t20 = all_tables[2]\n",
    "t20"
   ]
  },
  {
   "cell_type": "code",
   "execution_count": 28,
   "id": "ethical-palace",
   "metadata": {
    "execution": {
     "iopub.execute_input": "2021-04-10T19:02:07.403824Z",
     "iopub.status.busy": "2021-04-10T19:02:07.402976Z",
     "iopub.status.idle": "2021-04-10T19:02:07.406205Z",
     "shell.execute_reply": "2021-04-10T19:02:07.405615Z"
    },
    "papermill": {
     "duration": 0.057878,
     "end_time": "2021-04-10T19:02:07.406347",
     "exception": false,
     "start_time": "2021-04-10T19:02:07.348469",
     "status": "completed"
    },
    "tags": []
   },
   "outputs": [],
   "source": [
    "col = []\n",
    "for i in t20.find_all(\"th\"):\n",
    "    col.append(i.text)"
   ]
  },
  {
   "cell_type": "code",
   "execution_count": 29,
   "id": "velvet-composite",
   "metadata": {
    "execution": {
     "iopub.execute_input": "2021-04-10T19:02:07.511172Z",
     "iopub.status.busy": "2021-04-10T19:02:07.510335Z",
     "iopub.status.idle": "2021-04-10T19:02:07.514488Z",
     "shell.execute_reply": "2021-04-10T19:02:07.514977Z"
    },
    "papermill": {
     "duration": 0.059117,
     "end_time": "2021-04-10T19:02:07.515140",
     "exception": false,
     "start_time": "2021-04-10T19:02:07.456023",
     "status": "completed"
    },
    "tags": []
   },
   "outputs": [
    {
     "data": {
      "text/plain": [
       "['Pos', 'Team', 'Matches', 'Points', 'Rating']"
      ]
     },
     "execution_count": 29,
     "metadata": {},
     "output_type": "execute_result"
    }
   ],
   "source": [
    "col"
   ]
  },
  {
   "cell_type": "code",
   "execution_count": 30,
   "id": "eastern-terminology",
   "metadata": {
    "execution": {
     "iopub.execute_input": "2021-04-10T19:02:07.635367Z",
     "iopub.status.busy": "2021-04-10T19:02:07.634713Z",
     "iopub.status.idle": "2021-04-10T19:02:07.639402Z",
     "shell.execute_reply": "2021-04-10T19:02:07.638787Z"
    },
    "papermill": {
     "duration": 0.074694,
     "end_time": "2021-04-10T19:02:07.639545",
     "exception": false,
     "start_time": "2021-04-10T19:02:07.564851",
     "status": "completed"
    },
    "tags": []
   },
   "outputs": [
    {
     "data": {
      "text/plain": [
       "[<td class=\"left\">1</td>,\n",
       " <td class=\"left\">England</td>,\n",
       " <td class=\"left\">30</td>,\n",
       " <td class=\"left\">8166</td>,\n",
       " <td class=\"left\">272</td>,\n",
       " <td class=\"left\">2</td>,\n",
       " <td class=\"left\">India</td>,\n",
       " <td class=\"left\">43</td>,\n",
       " <td class=\"left\">11613</td>,\n",
       " <td class=\"left\">270</td>,\n",
       " <td class=\"left\">3</td>,\n",
       " <td class=\"left\">Australia</td>,\n",
       " <td class=\"left\">30</td>,\n",
       " <td class=\"left\">8005</td>,\n",
       " <td class=\"left\">267</td>,\n",
       " <td class=\"left\">4</td>,\n",
       " <td class=\"left\">Pakistan</td>,\n",
       " <td class=\"left\">32</td>,\n",
       " <td class=\"left\">8321</td>,\n",
       " <td class=\"left\">260</td>,\n",
       " <td class=\"left\">5</td>,\n",
       " <td class=\"left\">New Zealand</td>,\n",
       " <td class=\"left\">36</td>,\n",
       " <td class=\"left\">9181</td>,\n",
       " <td class=\"left\">255</td>,\n",
       " <td class=\"left\">6</td>,\n",
       " <td class=\"left\">South Africa</td>,\n",
       " <td class=\"left\">23</td>,\n",
       " <td class=\"left\">5776</td>,\n",
       " <td class=\"left\">251</td>,\n",
       " <td class=\"left\">7</td>,\n",
       " <td class=\"left\">Afghanistan</td>,\n",
       " <td class=\"left\">19</td>,\n",
       " <td class=\"left\">4361</td>,\n",
       " <td class=\"left\">230</td>,\n",
       " <td class=\"left\">8</td>,\n",
       " <td class=\"left\">West Indies</td>,\n",
       " <td class=\"left\">29</td>,\n",
       " <td class=\"left\">6623</td>,\n",
       " <td class=\"left\">228</td>,\n",
       " <td class=\"left\">9</td>,\n",
       " <td class=\"left\">Sri Lanka</td>,\n",
       " <td class=\"left\">26</td>,\n",
       " <td class=\"left\">5924</td>,\n",
       " <td class=\"left\">228</td>,\n",
       " <td class=\"left\">10</td>,\n",
       " <td class=\"left\">Bangladesh</td>,\n",
       " <td class=\"left\">23</td>,\n",
       " <td class=\"left\">5194</td>,\n",
       " <td class=\"left\">226</td>,\n",
       " <td class=\"left\">11</td>,\n",
       " <td class=\"left\">Ireland</td>,\n",
       " <td class=\"left\">29</td>,\n",
       " <td class=\"left\">5513</td>,\n",
       " <td class=\"left\">190</td>,\n",
       " <td class=\"left\">12</td>,\n",
       " <td class=\"left\">Zimbabwe</td>,\n",
       " <td class=\"left\">23</td>,\n",
       " <td class=\"left\">4341</td>,\n",
       " <td class=\"left\">189</td>,\n",
       " <td class=\"left\">13</td>,\n",
       " <td class=\"left\">UAE</td>,\n",
       " <td class=\"left\">23</td>,\n",
       " <td class=\"left\">4288</td>,\n",
       " <td class=\"left\">186</td>,\n",
       " <td class=\"left\">14</td>,\n",
       " <td class=\"left\">Scotland</td>,\n",
       " <td class=\"left\">17</td>,\n",
       " <td class=\"left\">3096</td>,\n",
       " <td class=\"left\">182</td>,\n",
       " <td class=\"left\">15</td>,\n",
       " <td class=\"left\">Nepal</td>,\n",
       " <td class=\"left\">23</td>,\n",
       " <td class=\"left\">4148</td>,\n",
       " <td class=\"left\">180</td>,\n",
       " <td class=\"left\">16</td>,\n",
       " <td class=\"left\">PNG</td>,\n",
       " <td class=\"left\">21</td>,\n",
       " <td class=\"left\">3769</td>,\n",
       " <td class=\"left\">179</td>,\n",
       " <td class=\"left\">17</td>,\n",
       " <td class=\"left\">Netherlands</td>,\n",
       " <td class=\"left\">26</td>,\n",
       " <td class=\"left\">4618</td>,\n",
       " <td class=\"left\">178</td>,\n",
       " <td class=\"left\">18</td>,\n",
       " <td class=\"left\">Oman</td>,\n",
       " <td class=\"left\">18</td>,\n",
       " <td class=\"left\">3169</td>,\n",
       " <td class=\"left\">176</td>,\n",
       " <td class=\"left\">19</td>,\n",
       " <td class=\"left\">Namibia</td>,\n",
       " <td class=\"left\">22</td>,\n",
       " <td class=\"left\">3482</td>,\n",
       " <td class=\"left\">158</td>,\n",
       " <td class=\"left\">20</td>,\n",
       " <td class=\"left\">Singapore</td>,\n",
       " <td class=\"left\">20</td>,\n",
       " <td class=\"left\">2835</td>,\n",
       " <td class=\"left\">142</td>,\n",
       " <td class=\"left\">21</td>,\n",
       " <td class=\"left\">Canada</td>,\n",
       " <td class=\"left\">15</td>,\n",
       " <td class=\"left\">1956</td>,\n",
       " <td class=\"left\">130</td>,\n",
       " <td class=\"left\">22</td>,\n",
       " <td class=\"left\">Qatar</td>,\n",
       " <td class=\"left\">23</td>,\n",
       " <td class=\"left\">2982</td>,\n",
       " <td class=\"left\">130</td>,\n",
       " <td class=\"left\">23</td>,\n",
       " <td class=\"left\">Hong Kong</td>,\n",
       " <td class=\"left\">23</td>,\n",
       " <td class=\"left\">2727</td>,\n",
       " <td class=\"left\">119</td>,\n",
       " <td class=\"left\">24</td>,\n",
       " <td class=\"left\">Kenya</td>,\n",
       " <td class=\"left\">12</td>,\n",
       " <td class=\"left\">1389</td>,\n",
       " <td class=\"left\">116</td>,\n",
       " <td class=\"left\">25</td>,\n",
       " <td class=\"left\">Jersey</td>,\n",
       " <td class=\"left\">21</td>,\n",
       " <td class=\"left\">2423</td>,\n",
       " <td class=\"left\">115</td>,\n",
       " <td class=\"left\">26</td>,\n",
       " <td class=\"left\">Kuwait</td>,\n",
       " <td class=\"left\">16</td>,\n",
       " <td class=\"left\">1765</td>,\n",
       " <td class=\"left\">110</td>,\n",
       " <td class=\"left\">27</td>,\n",
       " <td class=\"left\">Italy</td>,\n",
       " <td class=\"left\">10</td>,\n",
       " <td class=\"left\">1100</td>,\n",
       " <td class=\"left\">110</td>,\n",
       " <td class=\"left\">28</td>,\n",
       " <td class=\"left\">Saudi Arabia</td>,\n",
       " <td class=\"left\">9</td>,\n",
       " <td class=\"left\">965</td>,\n",
       " <td class=\"left\">107</td>,\n",
       " <td class=\"left\">29</td>,\n",
       " <td class=\"left\">Denmark</td>,\n",
       " <td class=\"left\">10</td>,\n",
       " <td class=\"left\">975</td>,\n",
       " <td class=\"left\">98</td>,\n",
       " <td class=\"left\">30</td>,\n",
       " <td class=\"left\">Bermuda</td>,\n",
       " <td class=\"left\">13</td>,\n",
       " <td class=\"left\">1202</td>,\n",
       " <td class=\"left\">92</td>,\n",
       " <td class=\"left\">31</td>,\n",
       " <td class=\"left\">Malaysia</td>,\n",
       " <td class=\"left\">29</td>,\n",
       " <td class=\"left\">2557</td>,\n",
       " <td class=\"left\">88</td>,\n",
       " <td class=\"left\">32</td>,\n",
       " <td class=\"left\">Uganda</td>,\n",
       " <td class=\"left\">14</td>,\n",
       " <td class=\"left\">1222</td>,\n",
       " <td class=\"left\">87</td>,\n",
       " <td class=\"left\">33</td>,\n",
       " <td class=\"left\">Germany</td>,\n",
       " <td class=\"left\">15</td>,\n",
       " <td class=\"left\">1304</td>,\n",
       " <td class=\"left\">87</td>,\n",
       " <td class=\"left\">34</td>,\n",
       " <td class=\"left\">USA</td>,\n",
       " <td class=\"left\">11</td>,\n",
       " <td class=\"left\">868</td>,\n",
       " <td class=\"left\">79</td>,\n",
       " <td class=\"left\">35</td>,\n",
       " <td class=\"left\">Ghana</td>,\n",
       " <td class=\"left\">10</td>,\n",
       " <td class=\"left\">773</td>,\n",
       " <td class=\"left\">77</td>,\n",
       " <td class=\"left\">36</td>,\n",
       " <td class=\"left\">Guernsey</td>,\n",
       " <td class=\"left\">13</td>,\n",
       " <td class=\"left\">935</td>,\n",
       " <td class=\"left\">72</td>,\n",
       " <td class=\"left\">37</td>,\n",
       " <td class=\"left\">Botswana</td>,\n",
       " <td class=\"left\">13</td>,\n",
       " <td class=\"left\">934</td>,\n",
       " <td class=\"left\">72</td>,\n",
       " <td class=\"left\">38</td>,\n",
       " <td class=\"left\">Austria</td>,\n",
       " <td class=\"left\">8</td>,\n",
       " <td class=\"left\">553</td>,\n",
       " <td class=\"left\">69</td>,\n",
       " <td class=\"left\">39</td>,\n",
       " <td class=\"left\">Nigeria</td>,\n",
       " <td class=\"left\">16</td>,\n",
       " <td class=\"left\">1064</td>,\n",
       " <td class=\"left\">67</td>,\n",
       " <td class=\"left\">40</td>,\n",
       " <td class=\"left\">Norway</td>,\n",
       " <td class=\"left\">8</td>,\n",
       " <td class=\"left\">499</td>,\n",
       " <td class=\"left\">62</td>,\n",
       " <td class=\"left\">41</td>,\n",
       " <td class=\"left\">Romania</td>,\n",
       " <td class=\"left\">10</td>,\n",
       " <td class=\"left\">602</td>,\n",
       " <td class=\"left\">60</td>,\n",
       " <td class=\"left\">42</td>,\n",
       " <td class=\"left\">Spain</td>,\n",
       " <td class=\"left\">13</td>,\n",
       " <td class=\"left\">766</td>,\n",
       " <td class=\"left\">59</td>,\n",
       " <td class=\"left\">43</td>,\n",
       " <td class=\"left\">Sweden</td>,\n",
       " <td class=\"left\">3</td>,\n",
       " <td class=\"left\">168</td>,\n",
       " <td class=\"left\">56</td>,\n",
       " <td class=\"left\">44</td>,\n",
       " <td class=\"left\">Tanzania</td>,\n",
       " <td class=\"left\">3</td>,\n",
       " <td class=\"left\">167</td>,\n",
       " <td class=\"left\">56</td>,\n",
       " <td class=\"left\">45</td>,\n",
       " <td class=\"left\">Cayman Islands</td>,\n",
       " <td class=\"left\">8</td>,\n",
       " <td class=\"left\">430</td>,\n",
       " <td class=\"left\">54</td>,\n",
       " <td class=\"left\">46</td>,\n",
       " <td class=\"left\">Argentina</td>,\n",
       " <td class=\"left\">12</td>,\n",
       " <td class=\"left\">610</td>,\n",
       " <td class=\"left\">51</td>,\n",
       " <td class=\"left\">47</td>,\n",
       " <td class=\"left\">Belgium</td>,\n",
       " <td class=\"left\">10</td>,\n",
       " <td class=\"left\">499</td>,\n",
       " <td class=\"left\">50</td>,\n",
       " <td class=\"left\">48</td>,\n",
       " <td class=\"left\">Philippines</td>,\n",
       " <td class=\"left\">5</td>,\n",
       " <td class=\"left\">241</td>,\n",
       " <td class=\"left\">48</td>,\n",
       " <td class=\"left\">49</td>,\n",
       " <td class=\"left\">Bahrain</td>,\n",
       " <td class=\"left\">9</td>,\n",
       " <td class=\"left\">424</td>,\n",
       " <td class=\"left\">47</td>,\n",
       " <td class=\"left\">50</td>,\n",
       " <td class=\"left\">Vanuatu</td>,\n",
       " <td class=\"left\">15</td>,\n",
       " <td class=\"left\">704</td>,\n",
       " <td class=\"left\">47</td>,\n",
       " <td class=\"left\">51</td>,\n",
       " <td class=\"left\">Belize</td>,\n",
       " <td class=\"left\">5</td>,\n",
       " <td class=\"left\">209</td>,\n",
       " <td class=\"left\">42</td>,\n",
       " <td class=\"left\">52</td>,\n",
       " <td class=\"left\">Hungary</td>,\n",
       " <td class=\"left\">4</td>,\n",
       " <td class=\"left\">162</td>,\n",
       " <td class=\"left\">41</td>,\n",
       " <td class=\"left\">53</td>,\n",
       " <td class=\"left\">Malawi</td>,\n",
       " <td class=\"left\">12</td>,\n",
       " <td class=\"left\">476</td>,\n",
       " <td class=\"left\">40</td>,\n",
       " <td class=\"left\">54</td>,\n",
       " <td class=\"left\">Fiji</td>,\n",
       " <td class=\"left\">3</td>,\n",
       " <td class=\"left\">105</td>,\n",
       " <td class=\"left\">35</td>,\n",
       " <td class=\"left\">55</td>,\n",
       " <td class=\"left\">Peru</td>,\n",
       " <td class=\"left\">9</td>,\n",
       " <td class=\"left\">294</td>,\n",
       " <td class=\"left\">33</td>,\n",
       " <td class=\"left\">56</td>,\n",
       " <td class=\"left\">Panama</td>,\n",
       " <td class=\"left\">5</td>,\n",
       " <td class=\"left\">162</td>,\n",
       " <td class=\"left\">32</td>,\n",
       " <td class=\"left\">57</td>,\n",
       " <td class=\"left\">Japan</td>,\n",
       " <td class=\"left\">4</td>,\n",
       " <td class=\"left\">126</td>,\n",
       " <td class=\"left\">32</td>,\n",
       " <td class=\"left\">58</td>,\n",
       " <td class=\"left\">Costa Rica</td>,\n",
       " <td class=\"left\">4</td>,\n",
       " <td class=\"left\">126</td>,\n",
       " <td class=\"left\">32</td>,\n",
       " <td class=\"left\">59</td>,\n",
       " <td class=\"left\">Samoa</td>,\n",
       " <td class=\"left\">7</td>,\n",
       " <td class=\"left\">216</td>,\n",
       " <td class=\"left\">31</td>,\n",
       " <td class=\"left\">60</td>,\n",
       " <td class=\"left\">Czech Republic</td>,\n",
       " <td class=\"left\">16</td>,\n",
       " <td class=\"left\">478</td>,\n",
       " <td class=\"left\">30</td>,\n",
       " <td class=\"left\">61</td>,\n",
       " <td class=\"left\">Mexico</td>,\n",
       " <td class=\"left\">11</td>,\n",
       " <td class=\"left\">320</td>,\n",
       " <td class=\"left\">29</td>,\n",
       " <td class=\"left\">62</td>,\n",
       " <td class=\"left\">Luxembourg</td>,\n",
       " <td class=\"left\">12</td>,\n",
       " <td class=\"left\">301</td>,\n",
       " <td class=\"left\">25</td>,\n",
       " <td class=\"left\">63</td>,\n",
       " <td class=\"left\">Portugal</td>,\n",
       " <td class=\"left\">7</td>,\n",
       " <td class=\"left\">173</td>,\n",
       " <td class=\"left\">25</td>,\n",
       " <td class=\"left\">64</td>,\n",
       " <td class=\"left\">Finland</td>,\n",
       " <td class=\"left\">9</td>,\n",
       " <td class=\"left\">204</td>,\n",
       " <td class=\"left\">23</td>,\n",
       " <td class=\"left\">65</td>,\n",
       " <td class=\"left\">Bulgaria</td>,\n",
       " <td class=\"left\">11</td>,\n",
       " <td class=\"left\">240</td>,\n",
       " <td class=\"left\">22</td>,\n",
       " <td class=\"left\">66</td>,\n",
       " <td class=\"left\">Thailand</td>,\n",
       " <td class=\"left\">14</td>,\n",
       " <td class=\"left\">297</td>,\n",
       " <td class=\"left\">21</td>,\n",
       " <td class=\"left\">67</td>,\n",
       " <td class=\"left\">Isle of Man</td>,\n",
       " <td class=\"left\">4</td>,\n",
       " <td class=\"left\">79</td>,\n",
       " <td class=\"left\">20</td>,\n",
       " <td class=\"left\">68</td>,\n",
       " <td class=\"left\">South Korea</td>,\n",
       " <td class=\"left\">4</td>,\n",
       " <td class=\"left\">78</td>,\n",
       " <td class=\"left\">20</td>,\n",
       " <td class=\"left\">69</td>,\n",
       " <td class=\"left\">Malta</td>,\n",
       " <td class=\"left\">10</td>,\n",
       " <td class=\"left\">166</td>,\n",
       " <td class=\"left\">17</td>,\n",
       " <td class=\"left\">70</td>,\n",
       " <td class=\"left\">Mozambique</td>,\n",
       " <td class=\"left\">12</td>,\n",
       " <td class=\"left\">173</td>,\n",
       " <td class=\"left\">14</td>,\n",
       " <td class=\"left\">71</td>,\n",
       " <td class=\"left\">Brazil</td>,\n",
       " <td class=\"left\">9</td>,\n",
       " <td class=\"left\">123</td>,\n",
       " <td class=\"left\">14</td>,\n",
       " <td class=\"left\">72</td>,\n",
       " <td class=\"left\">Bhutan</td>,\n",
       " <td class=\"left\">7</td>,\n",
       " <td class=\"left\">88</td>,\n",
       " <td class=\"left\">13</td>,\n",
       " <td class=\"left\">73</td>,\n",
       " <td class=\"left\">Sierra Leone</td>,\n",
       " <td class=\"left\">5</td>,\n",
       " <td class=\"left\">61</td>,\n",
       " <td class=\"left\">12</td>,\n",
       " <td class=\"left\">74</td>,\n",
       " <td class=\"left\">Maldives</td>,\n",
       " <td class=\"left\">14</td>,\n",
       " <td class=\"left\">138</td>,\n",
       " <td class=\"left\">10</td>,\n",
       " <td class=\"left\">75</td>,\n",
       " <td class=\"left\">Chile</td>,\n",
       " <td class=\"left\">9</td>,\n",
       " <td class=\"left\">85</td>,\n",
       " <td class=\"left\">9</td>,\n",
       " <td class=\"left\">76</td>,\n",
       " <td class=\"left\">St Helena</td>,\n",
       " <td class=\"left\">6</td>,\n",
       " <td class=\"left\">55</td>,\n",
       " <td class=\"left\">9</td>,\n",
       " <td class=\"left\">77</td>,\n",
       " <td class=\"left\">Indonesia</td>,\n",
       " <td class=\"left\">4</td>,\n",
       " <td class=\"left\">19</td>,\n",
       " <td class=\"left\">5</td>,\n",
       " <td class=\"left\">78</td>,\n",
       " <td class=\"left\">Myanmar</td>,\n",
       " <td class=\"left\">6</td>,\n",
       " <td class=\"left\">23</td>,\n",
       " <td class=\"left\">4</td>,\n",
       " <td class=\"left\">79</td>,\n",
       " <td class=\"left\">Gibraltar</td>,\n",
       " <td class=\"left\">7</td>,\n",
       " <td class=\"left\">0</td>,\n",
       " <td class=\"left\">0</td>,\n",
       " <td class=\"left\">80</td>,\n",
       " <td class=\"left\">Gambia</td>,\n",
       " <td class=\"left\">6</td>,\n",
       " <td class=\"left\">0</td>,\n",
       " <td class=\"left\">0</td>,\n",
       " <td class=\"left\">81</td>,\n",
       " <td class=\"left\">China</td>,\n",
       " <td class=\"left\">6</td>,\n",
       " <td class=\"left\">0</td>,\n",
       " <td class=\"left\">0</td>,\n",
       " <td class=\"left\">82</td>,\n",
       " <td class=\"left\">Turkey</td>,\n",
       " <td class=\"left\">5</td>,\n",
       " <td class=\"left\">0</td>,\n",
       " <td class=\"left\">0</td>,\n",
       " <td class=\"left\">83</td>,\n",
       " <td class=\"left\">Swaziland</td>,\n",
       " <td class=\"left\">3</td>,\n",
       " <td class=\"left\">0</td>,\n",
       " <td class=\"left\">0</td>,\n",
       " <td class=\"left\">84</td>,\n",
       " <td class=\"left\">Rwanda</td>,\n",
       " <td class=\"left\">3</td>,\n",
       " <td class=\"left\">0</td>,\n",
       " <td class=\"left\">0</td>,\n",
       " <td class=\"left\">85</td>,\n",
       " <td class=\"left\">Lesotho</td>,\n",
       " <td class=\"left\">3</td>,\n",
       " <td class=\"left\">0</td>,\n",
       " <td class=\"left\">0</td>]"
      ]
     },
     "execution_count": 30,
     "metadata": {},
     "output_type": "execute_result"
    }
   ],
   "source": [
    "table_data1 = t20.find_all(\"td\")\n",
    "table_data1"
   ]
  },
  {
   "cell_type": "code",
   "execution_count": 31,
   "id": "horizontal-florist",
   "metadata": {
    "execution": {
     "iopub.execute_input": "2021-04-10T19:02:07.748079Z",
     "iopub.status.busy": "2021-04-10T19:02:07.747444Z",
     "iopub.status.idle": "2021-04-10T19:02:07.750443Z",
     "shell.execute_reply": "2021-04-10T19:02:07.749923Z"
    },
    "papermill": {
     "duration": 0.060633,
     "end_time": "2021-04-10T19:02:07.750592",
     "exception": false,
     "start_time": "2021-04-10T19:02:07.689959",
     "status": "completed"
    },
    "tags": []
   },
   "outputs": [],
   "source": [
    "table_list1 = []\n",
    "start = 0\n",
    "end = 5\n",
    "\n",
    "for i in range(85):\n",
    "    Pos,Team, Matches,Points,Rating = table_data1[start:end]\n",
    "    table_list1.append([Pos.text,Team.text, Matches.text,Points.text,Rating.text])\n",
    "    start += 5\n",
    "    end +=5"
   ]
  },
  {
   "cell_type": "code",
   "execution_count": 32,
   "id": "imperial-counter",
   "metadata": {
    "execution": {
     "iopub.execute_input": "2021-04-10T19:02:07.865759Z",
     "iopub.status.busy": "2021-04-10T19:02:07.864508Z",
     "iopub.status.idle": "2021-04-10T19:02:07.868779Z",
     "shell.execute_reply": "2021-04-10T19:02:07.869320Z"
    },
    "papermill": {
     "duration": 0.068684,
     "end_time": "2021-04-10T19:02:07.869492",
     "exception": false,
     "start_time": "2021-04-10T19:02:07.800808",
     "status": "completed"
    },
    "tags": []
   },
   "outputs": [
    {
     "data": {
      "text/plain": [
       "[['1', 'England', '30', '8166', '272'],\n",
       " ['2', 'India', '43', '11613', '270'],\n",
       " ['3', 'Australia', '30', '8005', '267'],\n",
       " ['4', 'Pakistan', '32', '8321', '260'],\n",
       " ['5', 'New Zealand', '36', '9181', '255'],\n",
       " ['6', 'South Africa', '23', '5776', '251'],\n",
       " ['7', 'Afghanistan', '19', '4361', '230'],\n",
       " ['8', 'West Indies', '29', '6623', '228'],\n",
       " ['9', 'Sri Lanka', '26', '5924', '228'],\n",
       " ['10', 'Bangladesh', '23', '5194', '226'],\n",
       " ['11', 'Ireland', '29', '5513', '190'],\n",
       " ['12', 'Zimbabwe', '23', '4341', '189'],\n",
       " ['13', 'UAE', '23', '4288', '186'],\n",
       " ['14', 'Scotland', '17', '3096', '182'],\n",
       " ['15', 'Nepal', '23', '4148', '180'],\n",
       " ['16', 'PNG', '21', '3769', '179'],\n",
       " ['17', 'Netherlands', '26', '4618', '178'],\n",
       " ['18', 'Oman', '18', '3169', '176'],\n",
       " ['19', 'Namibia', '22', '3482', '158'],\n",
       " ['20', 'Singapore', '20', '2835', '142'],\n",
       " ['21', 'Canada', '15', '1956', '130'],\n",
       " ['22', 'Qatar', '23', '2982', '130'],\n",
       " ['23', 'Hong Kong', '23', '2727', '119'],\n",
       " ['24', 'Kenya', '12', '1389', '116'],\n",
       " ['25', 'Jersey', '21', '2423', '115'],\n",
       " ['26', 'Kuwait', '16', '1765', '110'],\n",
       " ['27', 'Italy', '10', '1100', '110'],\n",
       " ['28', 'Saudi Arabia', '9', '965', '107'],\n",
       " ['29', 'Denmark', '10', '975', '98'],\n",
       " ['30', 'Bermuda', '13', '1202', '92'],\n",
       " ['31', 'Malaysia', '29', '2557', '88'],\n",
       " ['32', 'Uganda', '14', '1222', '87'],\n",
       " ['33', 'Germany', '15', '1304', '87'],\n",
       " ['34', 'USA', '11', '868', '79'],\n",
       " ['35', 'Ghana', '10', '773', '77'],\n",
       " ['36', 'Guernsey', '13', '935', '72'],\n",
       " ['37', 'Botswana', '13', '934', '72'],\n",
       " ['38', 'Austria', '8', '553', '69'],\n",
       " ['39', 'Nigeria', '16', '1064', '67'],\n",
       " ['40', 'Norway', '8', '499', '62'],\n",
       " ['41', 'Romania', '10', '602', '60'],\n",
       " ['42', 'Spain', '13', '766', '59'],\n",
       " ['43', 'Sweden', '3', '168', '56'],\n",
       " ['44', 'Tanzania', '3', '167', '56'],\n",
       " ['45', 'Cayman Islands', '8', '430', '54'],\n",
       " ['46', 'Argentina', '12', '610', '51'],\n",
       " ['47', 'Belgium', '10', '499', '50'],\n",
       " ['48', 'Philippines', '5', '241', '48'],\n",
       " ['49', 'Bahrain', '9', '424', '47'],\n",
       " ['50', 'Vanuatu', '15', '704', '47'],\n",
       " ['51', 'Belize', '5', '209', '42'],\n",
       " ['52', 'Hungary', '4', '162', '41'],\n",
       " ['53', 'Malawi', '12', '476', '40'],\n",
       " ['54', 'Fiji', '3', '105', '35'],\n",
       " ['55', 'Peru', '9', '294', '33'],\n",
       " ['56', 'Panama', '5', '162', '32'],\n",
       " ['57', 'Japan', '4', '126', '32'],\n",
       " ['58', 'Costa Rica', '4', '126', '32'],\n",
       " ['59', 'Samoa', '7', '216', '31'],\n",
       " ['60', 'Czech Republic', '16', '478', '30'],\n",
       " ['61', 'Mexico', '11', '320', '29'],\n",
       " ['62', 'Luxembourg', '12', '301', '25'],\n",
       " ['63', 'Portugal', '7', '173', '25'],\n",
       " ['64', 'Finland', '9', '204', '23'],\n",
       " ['65', 'Bulgaria', '11', '240', '22'],\n",
       " ['66', 'Thailand', '14', '297', '21'],\n",
       " ['67', 'Isle of Man', '4', '79', '20'],\n",
       " ['68', 'South Korea', '4', '78', '20'],\n",
       " ['69', 'Malta', '10', '166', '17'],\n",
       " ['70', 'Mozambique', '12', '173', '14'],\n",
       " ['71', 'Brazil', '9', '123', '14'],\n",
       " ['72', 'Bhutan', '7', '88', '13'],\n",
       " ['73', 'Sierra Leone', '5', '61', '12'],\n",
       " ['74', 'Maldives', '14', '138', '10'],\n",
       " ['75', 'Chile', '9', '85', '9'],\n",
       " ['76', 'St Helena', '6', '55', '9'],\n",
       " ['77', 'Indonesia', '4', '19', '5'],\n",
       " ['78', 'Myanmar', '6', '23', '4'],\n",
       " ['79', 'Gibraltar', '7', '0', '0'],\n",
       " ['80', 'Gambia', '6', '0', '0'],\n",
       " ['81', 'China', '6', '0', '0'],\n",
       " ['82', 'Turkey', '5', '0', '0'],\n",
       " ['83', 'Swaziland', '3', '0', '0'],\n",
       " ['84', 'Rwanda', '3', '0', '0'],\n",
       " ['85', 'Lesotho', '3', '0', '0']]"
      ]
     },
     "execution_count": 32,
     "metadata": {},
     "output_type": "execute_result"
    }
   ],
   "source": [
    "table_list1"
   ]
  },
  {
   "cell_type": "code",
   "execution_count": 33,
   "id": "amber-radio",
   "metadata": {
    "execution": {
     "iopub.execute_input": "2021-04-10T19:02:07.977622Z",
     "iopub.status.busy": "2021-04-10T19:02:07.976954Z",
     "iopub.status.idle": "2021-04-10T19:02:07.981460Z",
     "shell.execute_reply": "2021-04-10T19:02:07.982045Z"
    },
    "papermill": {
     "duration": 0.059753,
     "end_time": "2021-04-10T19:02:07.982197",
     "exception": false,
     "start_time": "2021-04-10T19:02:07.922444",
     "status": "completed"
    },
    "tags": []
   },
   "outputs": [
    {
     "data": {
      "text/plain": [
       "'05 April 2021'"
      ]
     },
     "execution_count": 33,
     "metadata": {},
     "output_type": "execute_result"
    }
   ],
   "source": [
    "updated_date = t20.caption.text\n",
    "updated_date"
   ]
  },
  {
   "cell_type": "code",
   "execution_count": 34,
   "id": "noticed-student",
   "metadata": {
    "execution": {
     "iopub.execute_input": "2021-04-10T19:02:08.091399Z",
     "iopub.status.busy": "2021-04-10T19:02:08.090677Z",
     "iopub.status.idle": "2021-04-10T19:02:08.095515Z",
     "shell.execute_reply": "2021-04-10T19:02:08.096070Z"
    },
    "papermill": {
     "duration": 0.061221,
     "end_time": "2021-04-10T19:02:08.096234",
     "exception": false,
     "start_time": "2021-04-10T19:02:08.035013",
     "status": "completed"
    },
    "tags": []
   },
   "outputs": [],
   "source": [
    "t20_ranking = pd.DataFrame(table_list1 , columns=col)"
   ]
  },
  {
   "cell_type": "markdown",
   "id": "incident-newport",
   "metadata": {
    "papermill": {
     "duration": 0.052348,
     "end_time": "2021-04-10T19:02:08.201176",
     "exception": false,
     "start_time": "2021-04-10T19:02:08.148828",
     "status": "completed"
    },
    "tags": []
   },
   "source": [
    "### ICC Twenty20 Rankings"
   ]
  },
  {
   "cell_type": "code",
   "execution_count": 35,
   "id": "important-identification",
   "metadata": {
    "execution": {
     "iopub.execute_input": "2021-04-10T19:02:08.309556Z",
     "iopub.status.busy": "2021-04-10T19:02:08.308914Z",
     "iopub.status.idle": "2021-04-10T19:02:08.322841Z",
     "shell.execute_reply": "2021-04-10T19:02:08.323480Z"
    },
    "papermill": {
     "duration": 0.070099,
     "end_time": "2021-04-10T19:02:08.323632",
     "exception": false,
     "start_time": "2021-04-10T19:02:08.253533",
     "status": "completed"
    },
    "tags": []
   },
   "outputs": [
    {
     "name": "stdout",
     "output_type": "stream",
     "text": [
      "05 April 2021\n"
     ]
    },
    {
     "data": {
      "text/html": [
       "<div>\n",
       "<style scoped>\n",
       "    .dataframe tbody tr th:only-of-type {\n",
       "        vertical-align: middle;\n",
       "    }\n",
       "\n",
       "    .dataframe tbody tr th {\n",
       "        vertical-align: top;\n",
       "    }\n",
       "\n",
       "    .dataframe thead th {\n",
       "        text-align: right;\n",
       "    }\n",
       "</style>\n",
       "<table border=\"1\" class=\"dataframe\">\n",
       "  <thead>\n",
       "    <tr style=\"text-align: right;\">\n",
       "      <th></th>\n",
       "      <th>Pos</th>\n",
       "      <th>Team</th>\n",
       "      <th>Matches</th>\n",
       "      <th>Points</th>\n",
       "      <th>Rating</th>\n",
       "    </tr>\n",
       "  </thead>\n",
       "  <tbody>\n",
       "    <tr>\n",
       "      <th>0</th>\n",
       "      <td>1</td>\n",
       "      <td>England</td>\n",
       "      <td>30</td>\n",
       "      <td>8166</td>\n",
       "      <td>272</td>\n",
       "    </tr>\n",
       "    <tr>\n",
       "      <th>1</th>\n",
       "      <td>2</td>\n",
       "      <td>India</td>\n",
       "      <td>43</td>\n",
       "      <td>11613</td>\n",
       "      <td>270</td>\n",
       "    </tr>\n",
       "    <tr>\n",
       "      <th>2</th>\n",
       "      <td>3</td>\n",
       "      <td>Australia</td>\n",
       "      <td>30</td>\n",
       "      <td>8005</td>\n",
       "      <td>267</td>\n",
       "    </tr>\n",
       "    <tr>\n",
       "      <th>3</th>\n",
       "      <td>4</td>\n",
       "      <td>Pakistan</td>\n",
       "      <td>32</td>\n",
       "      <td>8321</td>\n",
       "      <td>260</td>\n",
       "    </tr>\n",
       "    <tr>\n",
       "      <th>4</th>\n",
       "      <td>5</td>\n",
       "      <td>New Zealand</td>\n",
       "      <td>36</td>\n",
       "      <td>9181</td>\n",
       "      <td>255</td>\n",
       "    </tr>\n",
       "    <tr>\n",
       "      <th>5</th>\n",
       "      <td>6</td>\n",
       "      <td>South Africa</td>\n",
       "      <td>23</td>\n",
       "      <td>5776</td>\n",
       "      <td>251</td>\n",
       "    </tr>\n",
       "    <tr>\n",
       "      <th>6</th>\n",
       "      <td>7</td>\n",
       "      <td>Afghanistan</td>\n",
       "      <td>19</td>\n",
       "      <td>4361</td>\n",
       "      <td>230</td>\n",
       "    </tr>\n",
       "    <tr>\n",
       "      <th>7</th>\n",
       "      <td>8</td>\n",
       "      <td>West Indies</td>\n",
       "      <td>29</td>\n",
       "      <td>6623</td>\n",
       "      <td>228</td>\n",
       "    </tr>\n",
       "    <tr>\n",
       "      <th>8</th>\n",
       "      <td>9</td>\n",
       "      <td>Sri Lanka</td>\n",
       "      <td>26</td>\n",
       "      <td>5924</td>\n",
       "      <td>228</td>\n",
       "    </tr>\n",
       "    <tr>\n",
       "      <th>9</th>\n",
       "      <td>10</td>\n",
       "      <td>Bangladesh</td>\n",
       "      <td>23</td>\n",
       "      <td>5194</td>\n",
       "      <td>226</td>\n",
       "    </tr>\n",
       "  </tbody>\n",
       "</table>\n",
       "</div>"
      ],
      "text/plain": [
       "  Pos          Team Matches Points Rating\n",
       "0   1       England      30   8166    272\n",
       "1   2         India      43  11613    270\n",
       "2   3     Australia      30   8005    267\n",
       "3   4      Pakistan      32   8321    260\n",
       "4   5   New Zealand      36   9181    255\n",
       "5   6  South Africa      23   5776    251\n",
       "6   7   Afghanistan      19   4361    230\n",
       "7   8   West Indies      29   6623    228\n",
       "8   9     Sri Lanka      26   5924    228\n",
       "9  10    Bangladesh      23   5194    226"
      ]
     },
     "execution_count": 35,
     "metadata": {},
     "output_type": "execute_result"
    }
   ],
   "source": [
    "print(updated_date)\n",
    "t20_ranking.head(10)"
   ]
  },
  {
   "cell_type": "markdown",
   "id": "smoking-settlement",
   "metadata": {
    "papermill": {
     "duration": 0.053161,
     "end_time": "2021-04-10T19:02:08.429501",
     "exception": false,
     "start_time": "2021-04-10T19:02:08.376340",
     "status": "completed"
    },
    "tags": []
   },
   "source": [
    "### If your like my notebook.\n",
    "### Plz upvoted."
   ]
  },
  {
   "cell_type": "code",
   "execution_count": null,
   "id": "creative-variable",
   "metadata": {
    "papermill": {
     "duration": 0.053878,
     "end_time": "2021-04-10T19:02:08.536432",
     "exception": false,
     "start_time": "2021-04-10T19:02:08.482554",
     "status": "completed"
    },
    "tags": []
   },
   "outputs": [],
   "source": []
  }
 ],
 "metadata": {
  "kernelspec": {
   "display_name": "Python 3",
   "language": "python",
   "name": "python3"
  },
  "language_info": {
   "codemirror_mode": {
    "name": "ipython",
    "version": 3
   },
   "file_extension": ".py",
   "mimetype": "text/x-python",
   "name": "python",
   "nbconvert_exporter": "python",
   "pygments_lexer": "ipython3",
   "version": "3.7.9"
  },
  "papermill": {
   "default_parameters": {},
   "duration": 23.768479,
   "end_time": "2021-04-10T19:02:10.089067",
   "environment_variables": {},
   "exception": null,
   "input_path": "__notebook__.ipynb",
   "output_path": "__notebook__.ipynb",
   "parameters": {},
   "start_time": "2021-04-10T19:01:46.320588",
   "version": "2.3.2"
  }
 },
 "nbformat": 4,
 "nbformat_minor": 5
}
